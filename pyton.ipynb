{
 "cells": [
  {
   "cell_type": "markdown",
   "metadata": {},
   "source": [
    "# Paractice\n",
    "* Hello World"
   ]
  },
  {
   "cell_type": "code",
   "execution_count": 1,
   "metadata": {},
   "outputs": [
    {
     "name": "stdout",
     "output_type": "stream",
     "text": [
      "2\n"
     ]
    }
   ],
   "source": [
    "x = 2\n",
    "print(x)"
   ]
  },
  {
   "cell_type": "code",
   "execution_count": 12,
   "metadata": {},
   "outputs": [
    {
     "name": "stdout",
     "output_type": "stream",
     "text": [
      "Muhammad yasir\n",
      "<class 'str'>\n",
      "2454494897776\n",
      "['capitalize', 'casefold', 'center', 'count', 'encode', 'endswith', 'expandtabs', 'find', 'format', 'format_map', 'index', 'isalnum', 'isalpha', 'isascii', 'isdecimal', 'isdigit', 'isidentifier', 'islower', 'isnumeric', 'isprintable', 'isspace', 'istitle', 'isupper', 'join', 'ljust', 'lower', 'lstrip', 'maketrans', 'partition', 'removeprefix', 'removesuffix', 'replace', 'rfind', 'rindex', 'rjust', 'rpartition', 'rsplit', 'rstrip', 'split', 'splitlines', 'startswith', 'strip', 'swapcase', 'title', 'translate', 'upper', 'zfill']\n"
     ]
    }
   ],
   "source": [
    "name = \"Muhammad Yasir\"\n",
    "print(name.capitalize()) # print\n",
    "print(type(name)) # type\n",
    "print(id(name)) # physcial address\n",
    "print([i for i in dir(name) if \"__\" not in i])"
   ]
  },
  {
   "cell_type": "code",
   "execution_count": 17,
   "metadata": {},
   "outputs": [
    {
     "name": "stdout",
     "output_type": "stream",
     "text": [
      "Yasir\n",
      "<class 'str'>\n"
     ]
    }
   ],
   "source": [
    "name: str = \"yasir\"\n",
    "print(name.capitalize())\n",
    "print(type(name))"
   ]
  },
  {
   "cell_type": "code",
   "execution_count": 16,
   "metadata": {},
   "outputs": [
    {
     "name": "stdout",
     "output_type": "stream",
     "text": [
      "5\n",
      "<class 'int'>\n"
     ]
    }
   ],
   "source": [
    "num : int = 5\n",
    "print(num)\n",
    "print(type(num))"
   ]
  },
  {
   "cell_type": "code",
   "execution_count": 34,
   "metadata": {},
   "outputs": [
    {
     "name": "stdout",
     "output_type": "stream",
     "text": [
      "['a', 'b', 'c']\n",
      "<class 'list'>\n",
      "2454495860160\n",
      "['append', 'clear', 'copy', 'count', 'extend', 'index', 'insert', 'pop', 'remove', 'reverse', 'sort']\n",
      " list contains ['a', 'b', 'c']\n"
     ]
    }
   ],
   "source": [
    "name : list[int] = ['a','b','c']\n",
    "print(name) # print\n",
    "print(type(name)) # type\n",
    "print(id(name)) # physcial address\n",
    "print([i for i in dir(name) if \"__\" not in i])\n",
    "# name = name.append('e')\n",
    "print(f' list contains {name}') # print"
   ]
  },
  {
   "cell_type": "markdown",
   "metadata": {},
   "source": [
    "# F String in Jinja\n",
    "  use of f string like `` in javascript"
   ]
  },
  {
   "cell_type": "code",
   "execution_count": 38,
   "metadata": {},
   "outputs": [
    {
     "name": "stdout",
     "output_type": "stream",
     "text": [
      "You entered your name is : Yasor\n",
      "you entered your name is : yasor\n"
     ]
    }
   ],
   "source": [
    "name : str = input(\"Enter Your Name: \")\n",
    "card : str = f'You entered your name is : %s'% (name.capitalize())\n",
    "print(card)\n",
    "print(card.lower())"
   ]
  },
  {
   "cell_type": "code",
   "execution_count": 40,
   "metadata": {},
   "outputs": [
    {
     "name": "stdout",
     "output_type": "stream",
     "text": [
      "You entered your name is : Yasuir\n",
      "you entered your name is : yasuir\n"
     ]
    }
   ],
   "source": [
    "name : str = input(\"Enter Your Name: \")\n",
    "card : str = f'You entered your name is : {name.capitalize()}'\n",
    "print(card)\n",
    "# print(card.lower())"
   ]
  },
  {
   "cell_type": "code",
   "execution_count": 44,
   "metadata": {},
   "outputs": [
    {
     "name": "stdout",
     "output_type": "stream",
     "text": [
      "['capitalize', 'casefold', 'center', 'count', 'encode', 'endswith', 'expandtabs', 'find', 'format', 'format_map', 'index', 'isalnum', 'isalpha', 'isascii', 'isdecimal', 'isdigit', 'isidentifier', 'islower', 'isnumeric', 'isprintable', 'isspace', 'istitle', 'isupper', 'join', 'ljust', 'lower', 'lstrip', 'maketrans', 'partition', 'removeprefix', 'removesuffix', 'replace', 'rfind', 'rindex', 'rjust', 'rpartition', 'rsplit', 'rstrip', 'split', 'splitlines', 'startswith', 'strip', 'swapcase', 'title', 'translate', 'upper', 'zfill']\n",
      "47\n"
     ]
    }
   ],
   "source": [
    "a : list[str] = [i for i in dir(str) if \"__\" not in i]\n",
    "print(a)\n",
    "print(len(a))"
   ]
  },
  {
   "cell_type": "code",
   "execution_count": 47,
   "metadata": {},
   "outputs": [
    {
     "name": "stdout",
     "output_type": "stream",
     "text": [
      "                  Yasir            .\n"
     ]
    }
   ],
   "source": [
    "name : str = input(\"Enter Your Name: \")\n",
    "\n",
    "print(name.rstrip())\n"
   ]
  },
  {
   "cell_type": "code",
   "execution_count": 49,
   "metadata": {},
   "outputs": [
    {
     "data": {
      "text/plain": [
       "'      MuHammAd           QasIm         '"
      ]
     },
     "metadata": {},
     "output_type": "display_data"
    },
    {
     "data": {
      "text/plain": [
       "'MuHammAd QasIm'"
      ]
     },
     "metadata": {},
     "output_type": "display_data"
    }
   ],
   "source": [
    "import re\n",
    "\n",
    "name : str = \"      MuHammAd           QasIm         \"\n",
    "\n",
    "display(name)\n",
    "\n",
    "name1 : str = re.sub(' {2,100}',' ', name).strip()\n",
    "display(name1)"
   ]
  },
  {
   "cell_type": "code",
   "execution_count": 50,
   "metadata": {},
   "outputs": [
    {
     "name": "stdout",
     "output_type": "stream",
     "text": [
      "The Zen of Python, by Tim Peters\n",
      "\n",
      "Beautiful is better than ugly.\n",
      "Explicit is better than implicit.\n",
      "Simple is better than complex.\n",
      "Complex is better than complicated.\n",
      "Flat is better than nested.\n",
      "Sparse is better than dense.\n",
      "Readability counts.\n",
      "Special cases aren't special enough to break the rules.\n",
      "Although practicality beats purity.\n",
      "Errors should never pass silently.\n",
      "Unless explicitly silenced.\n",
      "In the face of ambiguity, refuse the temptation to guess.\n",
      "There should be one-- and preferably only one --obvious way to do it.\n",
      "Although that way may not be obvious at first unless you're Dutch.\n",
      "Now is better than never.\n",
      "Although never is often better than *right* now.\n",
      "If the implementation is hard to explain, it's a bad idea.\n",
      "If the implementation is easy to explain, it may be a good idea.\n",
      "Namespaces are one honking great idea -- let's do more of those!\n"
     ]
    }
   ],
   "source": [
    "import this"
   ]
  },
  {
   "cell_type": "code",
   "execution_count": 4,
   "metadata": {},
   "outputs": [
    {
     "name": "stdout",
     "output_type": "stream",
     "text": [
      "Collecting lxml\n",
      "  Downloading lxml-4.9.3-cp312-cp312-win_amd64.whl.metadata (3.9 kB)\n",
      "Downloading lxml-4.9.3-cp312-cp312-win_amd64.whl (3.8 MB)\n",
      "   ---------------------------------------- 0.0/3.8 MB ? eta -:--:--\n",
      "   ---------------------------------------- 0.0/3.8 MB ? eta -:--:--\n",
      "   ---------------------------------------- 0.0/3.8 MB ? eta -:--:--\n",
      "   ---------------------------------------- 0.0/3.8 MB 262.6 kB/s eta 0:00:15\n",
      "   ---------------------------------------- 0.0/3.8 MB 245.8 kB/s eta 0:00:16\n",
      "    --------------------------------------- 0.1/3.8 MB 328.2 kB/s eta 0:00:12\n",
      "    --------------------------------------- 0.1/3.8 MB 350.1 kB/s eta 0:00:11\n",
      "   - -------------------------------------- 0.1/3.8 MB 409.6 kB/s eta 0:00:09\n",
      "   - -------------------------------------- 0.1/3.8 MB 388.1 kB/s eta 0:00:10\n",
      "   - -------------------------------------- 0.2/3.8 MB 382.3 kB/s eta 0:00:10\n",
      "   - -------------------------------------- 0.2/3.8 MB 420.1 kB/s eta 0:00:09\n",
      "   -- ------------------------------------- 0.2/3.8 MB 406.9 kB/s eta 0:00:09\n",
      "   -- ------------------------------------- 0.2/3.8 MB 406.9 kB/s eta 0:00:09\n",
      "   -- ------------------------------------- 0.2/3.8 MB 406.9 kB/s eta 0:00:09\n",
      "   -- ------------------------------------- 0.2/3.8 MB 406.9 kB/s eta 0:00:09\n",
      "   --- ------------------------------------ 0.3/3.8 MB 432.0 kB/s eta 0:00:09\n",
      "   --- ------------------------------------ 0.3/3.8 MB 437.0 kB/s eta 0:00:08\n",
      "   --- ------------------------------------ 0.3/3.8 MB 436.9 kB/s eta 0:00:08\n",
      "   --- ------------------------------------ 0.3/3.8 MB 436.9 kB/s eta 0:00:08\n",
      "   --- ------------------------------------ 0.4/3.8 MB 428.8 kB/s eta 0:00:08\n",
      "   ---- ----------------------------------- 0.4/3.8 MB 433.0 kB/s eta 0:00:08\n",
      "   ---- ----------------------------------- 0.4/3.8 MB 433.6 kB/s eta 0:00:08\n",
      "   ---- ----------------------------------- 0.5/3.8 MB 447.5 kB/s eta 0:00:08\n",
      "   ---- ----------------------------------- 0.5/3.8 MB 447.5 kB/s eta 0:00:08\n",
      "   ---- ----------------------------------- 0.5/3.8 MB 447.5 kB/s eta 0:00:08\n",
      "   ---- ----------------------------------- 0.5/3.8 MB 447.5 kB/s eta 0:00:08\n",
      "   ----- ---------------------------------- 0.5/3.8 MB 451.8 kB/s eta 0:00:08\n",
      "   ----- ---------------------------------- 0.6/3.8 MB 459.6 kB/s eta 0:00:07\n",
      "   ------ --------------------------------- 0.6/3.8 MB 466.9 kB/s eta 0:00:07\n",
      "   ------ --------------------------------- 0.6/3.8 MB 460.5 kB/s eta 0:00:07\n",
      "   ------ --------------------------------- 0.6/3.8 MB 460.5 kB/s eta 0:00:07\n",
      "   ------ --------------------------------- 0.6/3.8 MB 460.5 kB/s eta 0:00:07\n",
      "   ------- -------------------------------- 0.7/3.8 MB 458.1 kB/s eta 0:00:07\n",
      "   ------- -------------------------------- 0.7/3.8 MB 458.1 kB/s eta 0:00:07\n",
      "   ------- -------------------------------- 0.7/3.8 MB 462.3 kB/s eta 0:00:07\n",
      "   ------- -------------------------------- 0.7/3.8 MB 462.3 kB/s eta 0:00:07\n",
      "   ------- -------------------------------- 0.7/3.8 MB 462.3 kB/s eta 0:00:07\n",
      "   ------- -------------------------------- 0.7/3.8 MB 462.3 kB/s eta 0:00:07\n",
      "   ------- -------------------------------- 0.7/3.8 MB 426.9 kB/s eta 0:00:08\n",
      "   ------- -------------------------------- 0.7/3.8 MB 426.9 kB/s eta 0:00:08\n",
      "   -------- ------------------------------- 0.8/3.8 MB 416.2 kB/s eta 0:00:08\n",
      "   -------- ------------------------------- 0.8/3.8 MB 420.1 kB/s eta 0:00:08\n",
      "   -------- ------------------------------- 0.8/3.8 MB 411.8 kB/s eta 0:00:08\n",
      "   -------- ------------------------------- 0.8/3.8 MB 409.0 kB/s eta 0:00:08\n",
      "   -------- ------------------------------- 0.8/3.8 MB 404.5 kB/s eta 0:00:08\n",
      "   -------- ------------------------------- 0.8/3.8 MB 408.4 kB/s eta 0:00:08\n",
      "   -------- ------------------------------- 0.8/3.8 MB 408.4 kB/s eta 0:00:08\n",
      "   --------- ------------------------------ 0.9/3.8 MB 403.0 kB/s eta 0:00:08\n",
      "   --------- ------------------------------ 0.9/3.8 MB 396.2 kB/s eta 0:00:08\n",
      "   --------- ------------------------------ 0.9/3.8 MB 397.0 kB/s eta 0:00:08\n",
      "   --------- ------------------------------ 0.9/3.8 MB 397.0 kB/s eta 0:00:08\n",
      "   --------- ------------------------------ 0.9/3.8 MB 397.0 kB/s eta 0:00:08\n",
      "   --------- ------------------------------ 0.9/3.8 MB 397.7 kB/s eta 0:00:08\n",
      "   ---------- ----------------------------- 1.0/3.8 MB 396.7 kB/s eta 0:00:08\n",
      "   ---------- ----------------------------- 1.0/3.8 MB 396.7 kB/s eta 0:00:08\n",
      "   ---------- ----------------------------- 1.0/3.8 MB 396.7 kB/s eta 0:00:08\n",
      "   ---------- ----------------------------- 1.0/3.8 MB 396.7 kB/s eta 0:00:08\n",
      "   ---------- ----------------------------- 1.0/3.8 MB 396.7 kB/s eta 0:00:08\n",
      "   ---------- ----------------------------- 1.0/3.8 MB 396.7 kB/s eta 0:00:08\n",
      "   ---------- ----------------------------- 1.0/3.8 MB 396.7 kB/s eta 0:00:08\n",
      "   ---------- ----------------------------- 1.0/3.8 MB 396.7 kB/s eta 0:00:08\n",
      "   ---------- ----------------------------- 1.0/3.8 MB 396.7 kB/s eta 0:00:08\n",
      "   ---------- ----------------------------- 1.0/3.8 MB 396.7 kB/s eta 0:00:08\n",
      "   ---------- ----------------------------- 1.0/3.8 MB 344.0 kB/s eta 0:00:09\n",
      "   ---------- ----------------------------- 1.0/3.8 MB 344.0 kB/s eta 0:00:09\n",
      "   ---------- ----------------------------- 1.0/3.8 MB 341.8 kB/s eta 0:00:09\n",
      "   ---------- ----------------------------- 1.0/3.8 MB 341.8 kB/s eta 0:00:09\n",
      "   ---------- ----------------------------- 1.0/3.8 MB 341.8 kB/s eta 0:00:09\n",
      "   ---------- ----------------------------- 1.0/3.8 MB 341.8 kB/s eta 0:00:09\n",
      "   ---------- ----------------------------- 1.0/3.8 MB 332.8 kB/s eta 0:00:09\n",
      "   ---------- ----------------------------- 1.0/3.8 MB 332.8 kB/s eta 0:00:09\n",
      "   ---------- ----------------------------- 1.0/3.8 MB 332.8 kB/s eta 0:00:09\n",
      "   ---------- ----------------------------- 1.0/3.8 MB 318.2 kB/s eta 0:00:09\n",
      "   ---------- ----------------------------- 1.0/3.8 MB 318.2 kB/s eta 0:00:09\n",
      "   ---------- ----------------------------- 1.0/3.8 MB 318.2 kB/s eta 0:00:09\n",
      "   ----------- ---------------------------- 1.1/3.8 MB 310.9 kB/s eta 0:00:09\n",
      "   ----------- ---------------------------- 1.1/3.8 MB 310.9 kB/s eta 0:00:09\n",
      "   ----------- ---------------------------- 1.1/3.8 MB 310.9 kB/s eta 0:00:09\n",
      "   ----------- ---------------------------- 1.1/3.8 MB 301.3 kB/s eta 0:00:09\n",
      "   ----------- ---------------------------- 1.1/3.8 MB 301.3 kB/s eta 0:00:09\n",
      "   ----------- ---------------------------- 1.1/3.8 MB 299.2 kB/s eta 0:00:09\n",
      "   ----------- ---------------------------- 1.1/3.8 MB 299.2 kB/s eta 0:00:09\n",
      "   ----------- ---------------------------- 1.1/3.8 MB 299.7 kB/s eta 0:00:09\n",
      "   ----------- ---------------------------- 1.1/3.8 MB 299.7 kB/s eta 0:00:09\n",
      "   ----------- ---------------------------- 1.1/3.8 MB 299.7 kB/s eta 0:00:09\n",
      "   ----------- ---------------------------- 1.1/3.8 MB 292.5 kB/s eta 0:00:10\n",
      "   ----------- ---------------------------- 1.1/3.8 MB 292.5 kB/s eta 0:00:10\n",
      "   ------------ --------------------------- 1.1/3.8 MB 288.4 kB/s eta 0:00:10\n",
      "   ------------ --------------------------- 1.1/3.8 MB 288.4 kB/s eta 0:00:10\n",
      "   ------------ --------------------------- 1.1/3.8 MB 288.4 kB/s eta 0:00:10\n",
      "   ------------ --------------------------- 1.1/3.8 MB 280.9 kB/s eta 0:00:10\n",
      "   ------------ --------------------------- 1.1/3.8 MB 280.9 kB/s eta 0:00:10\n",
      "   ------------ --------------------------- 1.1/3.8 MB 280.9 kB/s eta 0:00:10\n",
      "   ------------ --------------------------- 1.1/3.8 MB 280.9 kB/s eta 0:00:10\n",
      "   ------------ --------------------------- 1.2/3.8 MB 277.1 kB/s eta 0:00:10\n",
      "   ------------ --------------------------- 1.2/3.8 MB 277.1 kB/s eta 0:00:10\n",
      "   ------------ --------------------------- 1.2/3.8 MB 277.1 kB/s eta 0:00:10\n",
      "   ------------ --------------------------- 1.2/3.8 MB 272.5 kB/s eta 0:00:10\n",
      "   ------------ --------------------------- 1.2/3.8 MB 272.5 kB/s eta 0:00:10\n",
      "   ------------ --------------------------- 1.2/3.8 MB 270.4 kB/s eta 0:00:10\n",
      "   ------------ --------------------------- 1.2/3.8 MB 270.4 kB/s eta 0:00:10\n",
      "   ------------- -------------------------- 1.2/3.8 MB 268.1 kB/s eta 0:00:10\n",
      "   ------------- -------------------------- 1.2/3.8 MB 268.8 kB/s eta 0:00:10\n",
      "   ------------- -------------------------- 1.3/3.8 MB 268.7 kB/s eta 0:00:10\n",
      "   ------------- -------------------------- 1.3/3.8 MB 268.7 kB/s eta 0:00:10\n",
      "   ------------- -------------------------- 1.3/3.8 MB 268.7 kB/s eta 0:00:10\n",
      "   ------------- -------------------------- 1.3/3.8 MB 264.8 kB/s eta 0:00:10\n",
      "   ------------- -------------------------- 1.3/3.8 MB 266.4 kB/s eta 0:00:10\n",
      "   ------------- -------------------------- 1.3/3.8 MB 265.1 kB/s eta 0:00:10\n",
      "   ------------- -------------------------- 1.3/3.8 MB 265.1 kB/s eta 0:00:10\n",
      "   ------------- -------------------------- 1.3/3.8 MB 265.1 kB/s eta 0:00:10\n",
      "   -------------- ------------------------- 1.4/3.8 MB 265.8 kB/s eta 0:00:10\n",
      "   -------------- ------------------------- 1.4/3.8 MB 265.8 kB/s eta 0:00:10\n",
      "   -------------- ------------------------- 1.4/3.8 MB 262.2 kB/s eta 0:00:10\n",
      "   -------------- ------------------------- 1.4/3.8 MB 262.2 kB/s eta 0:00:10\n",
      "   -------------- ------------------------- 1.4/3.8 MB 262.2 kB/s eta 0:00:10\n",
      "   -------------- ------------------------- 1.4/3.8 MB 259.8 kB/s eta 0:00:10\n",
      "   -------------- ------------------------- 1.4/3.8 MB 259.8 kB/s eta 0:00:10\n",
      "   -------------- ------------------------- 1.4/3.8 MB 259.8 kB/s eta 0:00:10\n",
      "   -------------- ------------------------- 1.4/3.8 MB 255.0 kB/s eta 0:00:10\n",
      "   -------------- ------------------------- 1.4/3.8 MB 255.0 kB/s eta 0:00:10\n",
      "   -------------- ------------------------- 1.4/3.8 MB 255.0 kB/s eta 0:00:10\n",
      "   -------------- ------------------------- 1.4/3.8 MB 253.6 kB/s eta 0:00:10\n",
      "   --------------- ------------------------ 1.4/3.8 MB 255.2 kB/s eta 0:00:10\n",
      "   --------------- ------------------------ 1.4/3.8 MB 253.5 kB/s eta 0:00:10\n",
      "   --------------- ------------------------ 1.4/3.8 MB 253.5 kB/s eta 0:00:10\n",
      "   --------------- ------------------------ 1.4/3.8 MB 253.5 kB/s eta 0:00:10\n",
      "   --------------- ------------------------ 1.4/3.8 MB 253.5 kB/s eta 0:00:10\n",
      "   --------------- ------------------------ 1.5/3.8 MB 251.9 kB/s eta 0:00:10\n",
      "   --------------- ------------------------ 1.5/3.8 MB 251.9 kB/s eta 0:00:10\n",
      "   --------------- ------------------------ 1.5/3.8 MB 251.9 kB/s eta 0:00:10\n",
      "   --------------- ------------------------ 1.5/3.8 MB 251.9 kB/s eta 0:00:10\n",
      "   --------------- ------------------------ 1.5/3.8 MB 248.1 kB/s eta 0:00:10\n",
      "   ---------------- ----------------------- 1.5/3.8 MB 247.7 kB/s eta 0:00:10\n",
      "   ---------------- ----------------------- 1.5/3.8 MB 247.7 kB/s eta 0:00:10\n",
      "   ---------------- ----------------------- 1.5/3.8 MB 246.8 kB/s eta 0:00:10\n",
      "   ---------------- ----------------------- 1.5/3.8 MB 247.0 kB/s eta 0:00:10\n",
      "   ---------------- ----------------------- 1.5/3.8 MB 247.0 kB/s eta 0:00:10\n",
      "   ---------------- ----------------------- 1.5/3.8 MB 247.0 kB/s eta 0:00:10\n",
      "   ---------------- ----------------------- 1.5/3.8 MB 247.0 kB/s eta 0:00:10\n",
      "   ---------------- ----------------------- 1.5/3.8 MB 247.0 kB/s eta 0:00:10\n",
      "   ---------------- ----------------------- 1.6/3.8 MB 240.8 kB/s eta 0:00:10\n",
      "   ---------------- ----------------------- 1.6/3.8 MB 240.8 kB/s eta 0:00:10\n",
      "   ---------------- ----------------------- 1.6/3.8 MB 240.8 kB/s eta 0:00:10\n",
      "   ---------------- ----------------------- 1.6/3.8 MB 240.8 kB/s eta 0:00:10\n",
      "   ---------------- ----------------------- 1.6/3.8 MB 240.8 kB/s eta 0:00:10\n",
      "   ---------------- ----------------------- 1.6/3.8 MB 236.0 kB/s eta 0:00:10\n",
      "   ---------------- ----------------------- 1.6/3.8 MB 236.0 kB/s eta 0:00:10\n",
      "   ---------------- ----------------------- 1.6/3.8 MB 235.1 kB/s eta 0:00:10\n",
      "   ---------------- ----------------------- 1.6/3.8 MB 235.1 kB/s eta 0:00:10\n",
      "   ----------------- ---------------------- 1.6/3.8 MB 234.5 kB/s eta 0:00:10\n",
      "   ----------------- ---------------------- 1.6/3.8 MB 234.5 kB/s eta 0:00:10\n",
      "   ----------------- ---------------------- 1.6/3.8 MB 234.8 kB/s eta 0:00:10\n",
      "   ----------------- ---------------------- 1.6/3.8 MB 234.2 kB/s eta 0:00:10\n",
      "   ----------------- ---------------------- 1.7/3.8 MB 235.5 kB/s eta 0:00:09\n",
      "   ----------------- ---------------------- 1.7/3.8 MB 236.9 kB/s eta 0:00:09\n",
      "   ----------------- ---------------------- 1.7/3.8 MB 236.8 kB/s eta 0:00:09\n",
      "   ------------------ --------------------- 1.7/3.8 MB 237.5 kB/s eta 0:00:09\n",
      "   ------------------ --------------------- 1.7/3.8 MB 237.9 kB/s eta 0:00:09\n",
      "   ------------------ --------------------- 1.7/3.8 MB 239.2 kB/s eta 0:00:09\n",
      "   ------------------ --------------------- 1.8/3.8 MB 241.4 kB/s eta 0:00:09\n",
      "   ------------------ --------------------- 1.8/3.8 MB 243.1 kB/s eta 0:00:09\n",
      "   ------------------- -------------------- 1.8/3.8 MB 243.5 kB/s eta 0:00:09\n",
      "   ------------------- -------------------- 1.8/3.8 MB 245.3 kB/s eta 0:00:08\n",
      "   ------------------- -------------------- 1.9/3.8 MB 247.3 kB/s eta 0:00:08\n",
      "   ------------------- -------------------- 1.9/3.8 MB 249.4 kB/s eta 0:00:08\n",
      "   -------------------- ------------------- 1.9/3.8 MB 253.8 kB/s eta 0:00:08\n",
      "   -------------------- ------------------- 1.9/3.8 MB 254.0 kB/s eta 0:00:08\n",
      "   -------------------- ------------------- 2.0/3.8 MB 256.5 kB/s eta 0:00:08\n",
      "   --------------------- ------------------ 2.0/3.8 MB 259.8 kB/s eta 0:00:07\n",
      "   --------------------- ------------------ 2.0/3.8 MB 262.7 kB/s eta 0:00:07\n",
      "   --------------------- ------------------ 2.1/3.8 MB 265.1 kB/s eta 0:00:07\n",
      "   ---------------------- ----------------- 2.1/3.8 MB 266.6 kB/s eta 0:00:07\n",
      "   ---------------------- ----------------- 2.1/3.8 MB 269.7 kB/s eta 0:00:07\n",
      "   ----------------------- ---------------- 2.2/3.8 MB 273.3 kB/s eta 0:00:06\n",
      "   ----------------------- ---------------- 2.2/3.8 MB 275.5 kB/s eta 0:00:06\n",
      "   ----------------------- ---------------- 2.3/3.8 MB 279.8 kB/s eta 0:00:06\n",
      "   ------------------------ --------------- 2.3/3.8 MB 283.2 kB/s eta 0:00:06\n",
      "   ------------------------ --------------- 2.3/3.8 MB 287.2 kB/s eta 0:00:06\n",
      "   ------------------------- -------------- 2.4/3.8 MB 290.6 kB/s eta 0:00:05\n",
      "   ------------------------- -------------- 2.4/3.8 MB 294.5 kB/s eta 0:00:05\n",
      "   -------------------------- ------------- 2.5/3.8 MB 297.8 kB/s eta 0:00:05\n",
      "   -------------------------- ------------- 2.5/3.8 MB 300.5 kB/s eta 0:00:05\n",
      "   --------------------------- ------------ 2.5/3.8 MB 304.9 kB/s eta 0:00:05\n",
      "   --------------------------- ------------ 2.6/3.8 MB 307.5 kB/s eta 0:00:04\n",
      "   --------------------------- ------------ 2.6/3.8 MB 310.6 kB/s eta 0:00:04\n",
      "   ---------------------------- ----------- 2.7/3.8 MB 313.7 kB/s eta 0:00:04\n",
      "   ---------------------------- ----------- 2.7/3.8 MB 313.7 kB/s eta 0:00:04\n",
      "   ---------------------------- ----------- 2.7/3.8 MB 313.7 kB/s eta 0:00:04\n",
      "   ---------------------------- ----------- 2.7/3.8 MB 310.3 kB/s eta 0:00:04\n",
      "   ---------------------------- ----------- 2.7/3.8 MB 310.3 kB/s eta 0:00:04\n",
      "   ---------------------------- ----------- 2.7/3.8 MB 311.1 kB/s eta 0:00:04\n",
      "   ---------------------------- ----------- 2.7/3.8 MB 313.0 kB/s eta 0:00:04\n",
      "   ----------------------------- ---------- 2.7/3.8 MB 312.5 kB/s eta 0:00:04\n",
      "   ----------------------------- ---------- 2.8/3.8 MB 316.0 kB/s eta 0:00:04\n",
      "   ----------------------------- ---------- 2.8/3.8 MB 317.8 kB/s eta 0:00:04\n",
      "   ------------------------------ --------- 2.9/3.8 MB 322.5 kB/s eta 0:00:03\n",
      "   ------------------------------- -------- 2.9/3.8 MB 328.3 kB/s eta 0:00:03\n",
      "   ------------------------------- -------- 3.0/3.8 MB 331.1 kB/s eta 0:00:03\n",
      "   ------------------------------- -------- 3.0/3.8 MB 332.2 kB/s eta 0:00:03\n",
      "   ------------------------------- -------- 3.0/3.8 MB 332.2 kB/s eta 0:00:03\n",
      "   -------------------------------- ------- 3.1/3.8 MB 338.3 kB/s eta 0:00:02\n",
      "   --------------------------------- ------ 3.1/3.8 MB 340.0 kB/s eta 0:00:02\n",
      "   --------------------------------- ------ 3.2/3.8 MB 341.6 kB/s eta 0:00:02\n",
      "   --------------------------------- ------ 3.2/3.8 MB 344.8 kB/s eta 0:00:02\n",
      "   ---------------------------------- ----- 3.2/3.8 MB 345.8 kB/s eta 0:00:02\n",
      "   ---------------------------------- ----- 3.2/3.8 MB 346.9 kB/s eta 0:00:02\n",
      "   ---------------------------------- ----- 3.3/3.8 MB 346.2 kB/s eta 0:00:02\n",
      "   ----------------------------------- ---- 3.3/3.8 MB 348.3 kB/s eta 0:00:02\n",
      "   ----------------------------------- ---- 3.3/3.8 MB 351.4 kB/s eta 0:00:02\n",
      "   ----------------------------------- ---- 3.4/3.8 MB 354.5 kB/s eta 0:00:02\n",
      "   ------------------------------------ --- 3.4/3.8 MB 357.1 kB/s eta 0:00:01\n",
      "   ------------------------------------ --- 3.5/3.8 MB 360.1 kB/s eta 0:00:01\n",
      "   ------------------------------------- -- 3.5/3.8 MB 362.1 kB/s eta 0:00:01\n",
      "   ------------------------------------- -- 3.6/3.8 MB 365.6 kB/s eta 0:00:01\n",
      "   ------------------------------------- -- 3.6/3.8 MB 365.6 kB/s eta 0:00:01\n",
      "   -------------------------------------- - 3.6/3.8 MB 365.3 kB/s eta 0:00:01\n",
      "   -------------------------------------- - 3.6/3.8 MB 368.3 kB/s eta 0:00:01\n",
      "   -------------------------------------- - 3.7/3.8 MB 370.8 kB/s eta 0:00:01\n",
      "   ---------------------------------------  3.7/3.8 MB 374.1 kB/s eta 0:00:01\n",
      "   ---------------------------------------  3.7/3.8 MB 375.0 kB/s eta 0:00:01\n",
      "   ---------------------------------------- 3.8/3.8 MB 376.9 kB/s eta 0:00:00\n",
      "Installing collected packages: lxml\n",
      "Successfully installed lxml-4.9.3\n"
     ]
    }
   ],
   "source": [
    "!pip install lxml"
   ]
  },
  {
   "cell_type": "code",
   "execution_count": 9,
   "metadata": {},
   "outputs": [
    {
     "data": {
      "text/html": [
       "<div>\n",
       "<style scoped>\n",
       "    .dataframe tbody tr th:only-of-type {\n",
       "        vertical-align: middle;\n",
       "    }\n",
       "\n",
       "    .dataframe tbody tr th {\n",
       "        vertical-align: top;\n",
       "    }\n",
       "\n",
       "    .dataframe thead th {\n",
       "        text-align: right;\n",
       "    }\n",
       "</style>\n",
       "<table border=\"1\" class=\"dataframe\">\n",
       "  <thead>\n",
       "    <tr style=\"text-align: right;\">\n",
       "      <th></th>\n",
       "      <th>Operator</th>\n",
       "      <th>Name</th>\n",
       "      <th>Example</th>\n",
       "      <th>Try it</th>\n",
       "    </tr>\n",
       "  </thead>\n",
       "  <tbody>\n",
       "    <tr>\n",
       "      <th>0</th>\n",
       "      <td>+</td>\n",
       "      <td>Addition</td>\n",
       "      <td>x + y</td>\n",
       "      <td>Try it »</td>\n",
       "    </tr>\n",
       "    <tr>\n",
       "      <th>1</th>\n",
       "      <td>-</td>\n",
       "      <td>Subtraction</td>\n",
       "      <td>x - y</td>\n",
       "      <td>Try it »</td>\n",
       "    </tr>\n",
       "    <tr>\n",
       "      <th>2</th>\n",
       "      <td>*</td>\n",
       "      <td>Multiplication</td>\n",
       "      <td>x * y</td>\n",
       "      <td>Try it »</td>\n",
       "    </tr>\n",
       "    <tr>\n",
       "      <th>3</th>\n",
       "      <td>/</td>\n",
       "      <td>Division</td>\n",
       "      <td>x / y</td>\n",
       "      <td>Try it »</td>\n",
       "    </tr>\n",
       "    <tr>\n",
       "      <th>4</th>\n",
       "      <td>%</td>\n",
       "      <td>Modulus</td>\n",
       "      <td>x % y</td>\n",
       "      <td>Try it »</td>\n",
       "    </tr>\n",
       "    <tr>\n",
       "      <th>5</th>\n",
       "      <td>**</td>\n",
       "      <td>Exponentiation</td>\n",
       "      <td>x ** y</td>\n",
       "      <td>Try it »</td>\n",
       "    </tr>\n",
       "    <tr>\n",
       "      <th>6</th>\n",
       "      <td>//</td>\n",
       "      <td>Floor division</td>\n",
       "      <td>x // y</td>\n",
       "      <td>Try it »</td>\n",
       "    </tr>\n",
       "  </tbody>\n",
       "</table>\n",
       "</div>"
      ],
      "text/plain": [
       "  Operator            Name Example    Try it\n",
       "0        +        Addition   x + y  Try it »\n",
       "1        -     Subtraction   x - y  Try it »\n",
       "2        *  Multiplication   x * y  Try it »\n",
       "3        /        Division   x / y  Try it »\n",
       "4        %         Modulus   x % y  Try it »\n",
       "5       **  Exponentiation  x ** y  Try it »\n",
       "6       //  Floor division  x // y  Try it »"
      ]
     },
     "execution_count": 9,
     "metadata": {},
     "output_type": "execute_result"
    }
   ],
   "source": [
    "# !pip install pandas\n",
    "# import pandas as pd\n",
    "\n",
    "\n",
    "table = pd.read_html('https://www.w3schools.com/python/python_operators.asp')\n",
    "table[0]"
   ]
  },
  {
   "cell_type": "code",
   "execution_count": 20,
   "metadata": {},
   "outputs": [
    {
     "name": "stdout",
     "output_type": "stream",
     "text": [
      " simple division 7.5\n",
      " simple division 7\n",
      " Exponent 4\n",
      " Modulos 1\n"
     ]
    }
   ],
   "source": [
    "x = 15\n",
    "y = 2\n",
    "\n",
    "print(f' simple division {x / y}')\n",
    "print(f' simple division {x // y}')\n",
    "print(f' Exponent {y ** y}')\n",
    "print(f' Modulos {x % y}')"
   ]
  },
  {
   "cell_type": "code",
   "execution_count": 8,
   "metadata": {},
   "outputs": [
    {
     "data": {
      "text/html": [
       "<div>\n",
       "<style scoped>\n",
       "    .dataframe tbody tr th:only-of-type {\n",
       "        vertical-align: middle;\n",
       "    }\n",
       "\n",
       "    .dataframe tbody tr th {\n",
       "        vertical-align: top;\n",
       "    }\n",
       "\n",
       "    .dataframe thead th {\n",
       "        text-align: right;\n",
       "    }\n",
       "</style>\n",
       "<table border=\"1\" class=\"dataframe\">\n",
       "  <thead>\n",
       "    <tr style=\"text-align: right;\">\n",
       "      <th></th>\n",
       "      <th>Operator</th>\n",
       "      <th>Example</th>\n",
       "      <th>Same As</th>\n",
       "      <th>Try it</th>\n",
       "    </tr>\n",
       "  </thead>\n",
       "  <tbody>\n",
       "    <tr>\n",
       "      <th>0</th>\n",
       "      <td>=</td>\n",
       "      <td>x = 5</td>\n",
       "      <td>x = 5</td>\n",
       "      <td>Try it »</td>\n",
       "    </tr>\n",
       "    <tr>\n",
       "      <th>1</th>\n",
       "      <td>+=</td>\n",
       "      <td>x += 3</td>\n",
       "      <td>x = x + 3</td>\n",
       "      <td>Try it »</td>\n",
       "    </tr>\n",
       "    <tr>\n",
       "      <th>2</th>\n",
       "      <td>-=</td>\n",
       "      <td>x -= 3</td>\n",
       "      <td>x = x - 3</td>\n",
       "      <td>Try it »</td>\n",
       "    </tr>\n",
       "    <tr>\n",
       "      <th>3</th>\n",
       "      <td>*=</td>\n",
       "      <td>x *= 3</td>\n",
       "      <td>x = x * 3</td>\n",
       "      <td>Try it »</td>\n",
       "    </tr>\n",
       "    <tr>\n",
       "      <th>4</th>\n",
       "      <td>/=</td>\n",
       "      <td>x /= 3</td>\n",
       "      <td>x = x / 3</td>\n",
       "      <td>Try it »</td>\n",
       "    </tr>\n",
       "    <tr>\n",
       "      <th>5</th>\n",
       "      <td>%=</td>\n",
       "      <td>x %= 3</td>\n",
       "      <td>x = x % 3</td>\n",
       "      <td>Try it »</td>\n",
       "    </tr>\n",
       "    <tr>\n",
       "      <th>6</th>\n",
       "      <td>//=</td>\n",
       "      <td>x //= 3</td>\n",
       "      <td>x = x // 3</td>\n",
       "      <td>Try it »</td>\n",
       "    </tr>\n",
       "    <tr>\n",
       "      <th>7</th>\n",
       "      <td>**=</td>\n",
       "      <td>x **= 3</td>\n",
       "      <td>x = x ** 3</td>\n",
       "      <td>Try it »</td>\n",
       "    </tr>\n",
       "    <tr>\n",
       "      <th>8</th>\n",
       "      <td>&amp;=</td>\n",
       "      <td>x &amp;= 3</td>\n",
       "      <td>x = x &amp; 3</td>\n",
       "      <td>Try it »</td>\n",
       "    </tr>\n",
       "    <tr>\n",
       "      <th>9</th>\n",
       "      <td>|=</td>\n",
       "      <td>x |= 3</td>\n",
       "      <td>x = x | 3</td>\n",
       "      <td>Try it »</td>\n",
       "    </tr>\n",
       "    <tr>\n",
       "      <th>10</th>\n",
       "      <td>^=</td>\n",
       "      <td>x ^= 3</td>\n",
       "      <td>x = x ^ 3</td>\n",
       "      <td>Try it »</td>\n",
       "    </tr>\n",
       "    <tr>\n",
       "      <th>11</th>\n",
       "      <td>&gt;&gt;=</td>\n",
       "      <td>x &gt;&gt;= 3</td>\n",
       "      <td>x = x &gt;&gt; 3</td>\n",
       "      <td>Try it »</td>\n",
       "    </tr>\n",
       "    <tr>\n",
       "      <th>12</th>\n",
       "      <td>&lt;&lt;=</td>\n",
       "      <td>x &lt;&lt;= 3</td>\n",
       "      <td>x = x &lt;&lt; 3</td>\n",
       "      <td>Try it »</td>\n",
       "    </tr>\n",
       "  </tbody>\n",
       "</table>\n",
       "</div>"
      ],
      "text/plain": [
       "   Operator  Example     Same As    Try it\n",
       "0         =    x = 5       x = 5  Try it »\n",
       "1        +=   x += 3   x = x + 3  Try it »\n",
       "2        -=   x -= 3   x = x - 3  Try it »\n",
       "3        *=   x *= 3   x = x * 3  Try it »\n",
       "4        /=   x /= 3   x = x / 3  Try it »\n",
       "5        %=   x %= 3   x = x % 3  Try it »\n",
       "6       //=  x //= 3  x = x // 3  Try it »\n",
       "7       **=  x **= 3  x = x ** 3  Try it »\n",
       "8        &=   x &= 3   x = x & 3  Try it »\n",
       "9        |=   x |= 3   x = x | 3  Try it »\n",
       "10       ^=   x ^= 3   x = x ^ 3  Try it »\n",
       "11      >>=  x >>= 3  x = x >> 3  Try it »\n",
       "12      <<=  x <<= 3  x = x << 3  Try it »"
      ]
     },
     "execution_count": 8,
     "metadata": {},
     "output_type": "execute_result"
    }
   ],
   "source": [
    "\n",
    "table = pd.read_html('https://www.w3schools.com/python/python_operators.asp')\n",
    "table[1]"
   ]
  },
  {
   "cell_type": "code",
   "execution_count": 28,
   "metadata": {},
   "outputs": [
    {
     "name": "stdout",
     "output_type": "stream",
     "text": [
      "5\n",
      "0\n"
     ]
    }
   ],
   "source": [
    "x : float = 5\n",
    "print(x)\n",
    "x >>= 3\n",
    "\n",
    "print(x)\n"
   ]
  },
  {
   "cell_type": "code",
   "execution_count": 33,
   "metadata": {},
   "outputs": [
    {
     "name": "stdout",
     "output_type": "stream",
     "text": [
      "1\n"
     ]
    }
   ],
   "source": [
    "a : int = 5\n",
    "print(b := 1)"
   ]
  },
  {
   "cell_type": "markdown",
   "metadata": {},
   "source": [
    "# Identity Operator"
   ]
  },
  {
   "cell_type": "code",
   "execution_count": 40,
   "metadata": {},
   "outputs": [
    {
     "name": "stdout",
     "output_type": "stream",
     "text": [
      "140716476141832\n",
      "140716476141832\n"
     ]
    },
    {
     "data": {
      "text/plain": [
       "True"
      ]
     },
     "execution_count": 40,
     "metadata": {},
     "output_type": "execute_result"
    }
   ],
   "source": [
    "x : str = 'abc'\n",
    "z : str = 'abc'\n",
    "\n",
    "print(id(x))\n",
    "print(id(z))\n",
    "x is z"
   ]
  },
  {
   "cell_type": "code",
   "execution_count": 41,
   "metadata": {},
   "outputs": [
    {
     "name": "stdout",
     "output_type": "stream",
     "text": [
      "140716476141832\n",
      "2940839854224\n"
     ]
    },
    {
     "data": {
      "text/plain": [
       "False"
      ]
     },
     "execution_count": 41,
     "metadata": {},
     "output_type": "execute_result"
    }
   ],
   "source": [
    "x : str = 'abc'\n",
    "z : str = 'xyz'\n",
    "\n",
    "print(id(x))\n",
    "print(id(z))\n",
    "x is z"
   ]
  },
  {
   "cell_type": "code",
   "execution_count": 44,
   "metadata": {},
   "outputs": [
    {
     "name": "stdout",
     "output_type": "stream",
     "text": [
      "140716477008344\n",
      "140716477008472\n"
     ]
    },
    {
     "data": {
      "text/plain": [
       "True"
      ]
     },
     "execution_count": 44,
     "metadata": {},
     "output_type": "execute_result"
    }
   ],
   "source": [
    "x : int = 2\n",
    "z : int = 6\n",
    "\n",
    "print(id(x))\n",
    "print(id(z))\n",
    "x is not z"
   ]
  },
  {
   "cell_type": "code",
   "execution_count": 50,
   "metadata": {},
   "outputs": [
    {
     "name": "stdout",
     "output_type": "stream",
     "text": [
      "0 A\n",
      "1 B\n",
      "2 C\n",
      "3 D\n",
      "True\n"
     ]
    }
   ],
   "source": [
    "chars: list[str] = ['A', 'B', 'C', 'D', 'E']\n",
    "\n",
    "for i in range(len(chars)):\n",
    "    print(i, chars[i])\n",
    "    if chars[i] == \"D\":\n",
    "        print(\"True\")\n",
    "        break"
   ]
  },
  {
   "cell_type": "code",
   "execution_count": 57,
   "metadata": {},
   "outputs": [
    {
     "name": "stdout",
     "output_type": "stream",
     "text": [
      "Pakistan\n"
     ]
    },
    {
     "data": {
      "text/plain": [
       "None"
      ]
     },
     "metadata": {},
     "output_type": "display_data"
    }
   ],
   "source": [
    "# variable.method_name()\n",
    "    \n",
    "a : str = print(\"Pakistan\") # a = \"Pakistan\" | None\n",
    "\n",
    "display(a) # None"
   ]
  },
  {
   "cell_type": "markdown",
   "metadata": {},
   "source": [
    "* Create simple function without any argument (defualt function)\n"
   ]
  },
  {
   "cell_type": "code",
   "execution_count": 58,
   "metadata": {},
   "outputs": [
    {
     "name": "stdout",
     "output_type": "stream",
     "text": [
      "PIAIC Generative Artificial Intelligence\n",
      "Python Crash course\n"
     ]
    }
   ],
   "source": [
    "def piaic()->None: # declaration/function signature\n",
    "    # function body start\n",
    "    print(\"PIAIC Generative Artificial Intelligence\") # statment1\n",
    "    print(\"Python Crash course\") # statment2\n",
    "    # function body end\n",
    "\n",
    "\n",
    "piaic() # calling"
   ]
  },
  {
   "cell_type": "code",
   "execution_count": null,
   "metadata": {},
   "outputs": [],
   "source": []
  },
  {
   "cell_type": "markdown",
   "metadata": {},
   "source": [
    "# Required parameters functions\n"
   ]
  },
  {
   "cell_type": "code",
   "execution_count": 61,
   "metadata": {},
   "outputs": [
    {
     "data": {
      "text/plain": [
       "10"
      ]
     },
     "execution_count": 61,
     "metadata": {},
     "output_type": "execute_result"
    }
   ],
   "source": [
    "#                   param1       param2\n",
    "def add_two_numbers(num1 : int , num2 : int, opr :str)->float:\n",
    "    if(opr == +)\n",
    "    return num1 + num2\n",
    "\n",
    "num1 = int(input(\"Enter number 1:- \"))\n",
    "num2 = int(input(\"Enter number 2:- \"))\n",
    "opr = input(\"Enter Operator: \")\n",
    "\n",
    "add_two_numbers(num1,num2, opr)# agr1, arg2"
   ]
  },
  {
   "cell_type": "code",
   "execution_count": 1,
   "metadata": {},
   "outputs": [
    {
     "name": "stdout",
     "output_type": "stream",
     "text": [
      "Collecting beautifulsoup4\n",
      "  Downloading beautifulsoup4-4.12.2-py3-none-any.whl (142 kB)\n",
      "     ---------------------------------------- 0.0/143.0 kB ? eta -:--:--\n",
      "     -------- ------------------------------- 30.7/143.0 kB ? eta -:--:--\n",
      "     -------- ------------------------------- 30.7/143.0 kB ? eta -:--:--\n",
      "     ---------- -------------------------- 41.0/143.0 kB 279.3 kB/s eta 0:00:01\n",
      "     ---------- -------------------------- 41.0/143.0 kB 279.3 kB/s eta 0:00:01\n",
      "     ---------- -------------------------- 41.0/143.0 kB 279.3 kB/s eta 0:00:01\n",
      "     --------------- --------------------- 61.4/143.0 kB 204.8 kB/s eta 0:00:01\n",
      "     ----------------------- ------------- 92.2/143.0 kB 261.7 kB/s eta 0:00:01\n",
      "     ----------------------- ------------- 92.2/143.0 kB 261.7 kB/s eta 0:00:01\n",
      "     ---------------------------- ------- 112.6/143.0 kB 252.2 kB/s eta 0:00:01\n",
      "     ---------------------------- ------- 112.6/143.0 kB 252.2 kB/s eta 0:00:01\n",
      "     ------------------------------ ----- 122.9/143.0 kB 240.2 kB/s eta 0:00:01\n",
      "     ------------------------------ ----- 122.9/143.0 kB 240.2 kB/s eta 0:00:01\n",
      "     ------------------------------ ----- 122.9/143.0 kB 240.2 kB/s eta 0:00:01\n",
      "     ------------------------------ ----- 122.9/143.0 kB 240.2 kB/s eta 0:00:01\n",
      "     --------------------------------- -- 133.1/143.0 kB 182.9 kB/s eta 0:00:01\n",
      "     --------------------------------- -- 133.1/143.0 kB 182.9 kB/s eta 0:00:01\n",
      "     ------------------------------------ 143.0/143.0 kB 177.0 kB/s eta 0:00:00\n",
      "Collecting soupsieve>1.2 (from beautifulsoup4)\n",
      "  Obtaining dependency information for soupsieve>1.2 from https://files.pythonhosted.org/packages/4c/f3/038b302fdfbe3be7da016777069f26ceefe11a681055ea1f7817546508e3/soupsieve-2.5-py3-none-any.whl.metadata\n",
      "  Downloading soupsieve-2.5-py3-none-any.whl.metadata (4.7 kB)\n",
      "Downloading soupsieve-2.5-py3-none-any.whl (36 kB)\n",
      "Installing collected packages: soupsieve, beautifulsoup4\n",
      "Successfully installed beautifulsoup4-4.12.2 soupsieve-2.5\n",
      "Note: you may need to restart the kernel to use updated packages.\n"
     ]
    },
    {
     "name": "stderr",
     "output_type": "stream",
     "text": [
      "\n",
      "[notice] A new release of pip is available: 23.2.1 -> 23.3.1\n",
      "[notice] To update, run: python.exe -m pip install --upgrade pip\n"
     ]
    },
    {
     "name": "stdout",
     "output_type": "stream",
     "text": [
      "Collecting requests\n",
      "  Obtaining dependency information for requests from https://files.pythonhosted.org/packages/70/8e/0e2d847013cb52cd35b38c009bb167a1a26b2ce6cd6965bf26b47bc0bf44/requests-2.31.0-py3-none-any.whl.metadata\n",
      "  Downloading requests-2.31.0-py3-none-any.whl.metadata (4.6 kB)\n",
      "Collecting charset-normalizer<4,>=2 (from requests)\n",
      "  Obtaining dependency information for charset-normalizer<4,>=2 from https://files.pythonhosted.org/packages/b6/7c/8debebb4f90174074b827c63242c23851bdf00a532489fba57fef3416e40/charset_normalizer-3.3.2-cp312-cp312-win_amd64.whl.metadata\n",
      "  Downloading charset_normalizer-3.3.2-cp312-cp312-win_amd64.whl.metadata (34 kB)\n",
      "Collecting idna<4,>=2.5 (from requests)\n",
      "  Downloading idna-3.4-py3-none-any.whl (61 kB)\n",
      "     ---------------------------------------- 0.0/61.5 kB ? eta -:--:--\n",
      "     ------ --------------------------------- 10.2/61.5 kB ? eta -:--:--\n",
      "     ------ --------------------------------- 10.2/61.5 kB ? eta -:--:--\n",
      "     ------ --------------------------------- 10.2/61.5 kB ? eta -:--:--\n",
      "     ------ --------------------------------- 10.2/61.5 kB ? eta -:--:--\n",
      "     ------ --------------------------------- 10.2/61.5 kB ? eta -:--:--\n",
      "     ------ --------------------------------- 10.2/61.5 kB ? eta -:--:--\n",
      "     ------------------------- ------------ 41.0/61.5 kB 103.4 kB/s eta 0:00:01\n",
      "     ------------------------- ------------ 41.0/61.5 kB 103.4 kB/s eta 0:00:01\n",
      "     ------------------------- ------------ 41.0/61.5 kB 103.4 kB/s eta 0:00:01\n",
      "     -------------------------------------- 61.5/61.5 kB 126.3 kB/s eta 0:00:00\n",
      "Collecting urllib3<3,>=1.21.1 (from requests)\n",
      "  Obtaining dependency information for urllib3<3,>=1.21.1 from https://files.pythonhosted.org/packages/d2/b2/b157855192a68541a91ba7b2bbcb91f1b4faa51f8bae38d8005c034be524/urllib3-2.0.7-py3-none-any.whl.metadata\n",
      "  Downloading urllib3-2.0.7-py3-none-any.whl.metadata (6.6 kB)\n",
      "Collecting certifi>=2017.4.17 (from requests)\n",
      "  Obtaining dependency information for certifi>=2017.4.17 from https://files.pythonhosted.org/packages/4c/dd/2234eab22353ffc7d94e8d13177aaa050113286e93e7b40eae01fbf7c3d9/certifi-2023.7.22-py3-none-any.whl.metadata\n",
      "  Downloading certifi-2023.7.22-py3-none-any.whl.metadata (2.2 kB)\n",
      "Downloading requests-2.31.0-py3-none-any.whl (62 kB)\n",
      "   ---------------------------------------- 0.0/62.6 kB ? eta -:--:--\n",
      "   ------ --------------------------------- 10.2/62.6 kB ? eta -:--:--\n",
      "   ------------------- -------------------- 30.7/62.6 kB 325.1 kB/s eta 0:00:01\n",
      "   -------------------------- ------------- 41.0/62.6 kB 326.8 kB/s eta 0:00:01\n",
      "   ---------------------------------------  61.4/62.6 kB 409.6 kB/s eta 0:00:01\n",
      "   ---------------------------------------- 62.6/62.6 kB 278.4 kB/s eta 0:00:00\n",
      "Downloading certifi-2023.7.22-py3-none-any.whl (158 kB)\n",
      "   ---------------------------------------- 0.0/158.3 kB ? eta -:--:--\n",
      "   ---------------------------------------- 0.0/158.3 kB ? eta -:--:--\n",
      "   ------- -------------------------------- 30.7/158.3 kB 1.3 MB/s eta 0:00:01\n",
      "   ---------- ---------------------------- 41.0/158.3 kB 653.6 kB/s eta 0:00:01\n",
      "   ----------------- --------------------- 71.7/158.3 kB 558.5 kB/s eta 0:00:01\n",
      "   ----------------- --------------------- 71.7/158.3 kB 558.5 kB/s eta 0:00:01\n",
      "   --------------------------- ---------- 112.6/158.3 kB 595.3 kB/s eta 0:00:01\n",
      "   ---------------------------------- --- 143.4/158.3 kB 566.5 kB/s eta 0:00:01\n",
      "   -------------------------------------- 158.3/158.3 kB 525.2 kB/s eta 0:00:00\n",
      "Downloading charset_normalizer-3.3.2-cp312-cp312-win_amd64.whl (100 kB)\n",
      "   ---------------------------------------- 0.0/100.4 kB ? eta -:--:--\n",
      "   ---- ----------------------------------- 10.2/100.4 kB ? eta -:--:--\n",
      "   ---- ----------------------------------- 10.2/100.4 kB ? eta -:--:--\n",
      "   --------------- ----------------------- 41.0/100.4 kB 326.8 kB/s eta 0:00:01\n",
      "   --------------- ----------------------- 41.0/100.4 kB 326.8 kB/s eta 0:00:01\n",
      "   --------------- ----------------------- 41.0/100.4 kB 326.8 kB/s eta 0:00:01\n",
      "   ----------------------- --------------- 61.4/100.4 kB 218.8 kB/s eta 0:00:01\n",
      "   --------------------------- ----------- 71.7/100.4 kB 231.0 kB/s eta 0:00:01\n",
      "   --------------------------- ----------- 71.7/100.4 kB 231.0 kB/s eta 0:00:01\n",
      "   ----------------------------------- --- 92.2/100.4 kB 238.1 kB/s eta 0:00:01\n",
      "   -------------------------------------- 100.4/100.4 kB 213.6 kB/s eta 0:00:00\n",
      "Downloading urllib3-2.0.7-py3-none-any.whl (124 kB)\n",
      "   ---------------------------------------- 0.0/124.2 kB ? eta -:--:--\n",
      "   ---------------------------------------- 0.0/124.2 kB ? eta -:--:--\n",
      "   --- ------------------------------------ 10.2/124.2 kB ? eta -:--:--\n",
      "   --------- ----------------------------- 30.7/124.2 kB 660.6 kB/s eta 0:00:01\n",
      "   ------------ -------------------------- 41.0/124.2 kB 487.6 kB/s eta 0:00:01\n",
      "   ------------------- ------------------- 61.4/124.2 kB 465.5 kB/s eta 0:00:01\n",
      "   ---------------------- ---------------- 71.7/124.2 kB 393.8 kB/s eta 0:00:01\n",
      "   ---------------------- ---------------- 71.7/124.2 kB 393.8 kB/s eta 0:00:01\n",
      "   ---------------------------------- --- 112.6/124.2 kB 385.0 kB/s eta 0:00:01\n",
      "   -------------------------------------  122.9/124.2 kB 379.3 kB/s eta 0:00:01\n",
      "   -------------------------------------  122.9/124.2 kB 379.3 kB/s eta 0:00:01\n",
      "   -------------------------------------- 124.2/124.2 kB 291.5 kB/s eta 0:00:00\n",
      "Installing collected packages: urllib3, idna, charset-normalizer, certifi, requests\n",
      "Successfully installed certifi-2023.7.22 charset-normalizer-3.3.2 idna-3.4 requests-2.31.0 urllib3-2.0.7\n",
      "Note: you may need to restart the kernel to use updated packages.\n"
     ]
    },
    {
     "name": "stderr",
     "output_type": "stream",
     "text": [
      "  WARNING: The script normalizer.exe is installed in 'c:\\Users\\Huzaifa Enterprise\\AppData\\Local\\Programs\\Python\\Python312\\Scripts' which is not on PATH.\n",
      "  Consider adding this directory to PATH or, if you prefer to suppress this warning, use --no-warn-script-location.\n",
      "\n",
      "[notice] A new release of pip is available: 23.2.1 -> 23.3.1\n",
      "[notice] To update, run: python.exe -m pip install --upgrade pip\n"
     ]
    }
   ],
   "source": [
    "%pip install beautifulsoup4\n",
    "%pip install requests\n"
   ]
  },
  {
   "cell_type": "code",
   "execution_count": 1,
   "metadata": {},
   "outputs": [],
   "source": [
    "import requests\n",
    "from bs4 import BeautifulSoup\n",
    "\n",
    "# URL of the website to scrape\n",
    "url = \"https://etrade-delta.vercel.app/home/nft\"\n",
    "\n",
    "# Send an HTTP GET request to the URL\n",
    "response = requests.get(url)\n",
    "\n",
    "# Check if the request was successful\n",
    "if response.status_code == 200:\n",
    "    # Parse the HTML content of the page\n",
    "    soup = BeautifulSoup(response.text, \"html.parser\")\n",
    "    \n",
    "    # Locate the HTML elements containing product listings\n",
    "    # You may need to inspect the website's HTML structure and identify the elements that hold the product data.\n",
    "    # For demonstration purposes, let's assume product data is in div elements with a specific class.\n",
    "    product_elements = soup.find_all(\"div\", class_=\"product-listing\")\n",
    "\n",
    "    # Iterate through the product elements and extract data\n",
    "    for product in product_elements:\n",
    "        # Extract and print relevant data (modify as needed)\n",
    "        product_name = product.find(\"h2\", class_=\"product-name\").text\n",
    "        product_price = product.find(\"span\", class_=\"product-price\").text\n",
    "        print(f\"Product Name: {product_name}\")\n",
    "        print(f\"Product Price: {product_price}\")\n",
    "else:\n",
    "    print(\"Failed to retrieve the webpage. Status code:\", response.status_code)\n"
   ]
  },
  {
   "cell_type": "code",
   "execution_count": 6,
   "metadata": {},
   "outputs": [
    {
     "name": "stdout",
     "output_type": "stream",
     "text": [
      "pip 23.3.1 from e:\\Users\\Huzaifa Enterprise\\anaconda3\\envs\\python12\\Lib\\site-packages\\pip (python 3.12)\n",
      "\n",
      "Note: you may need to restart the kernel to use updated packages.\n"
     ]
    }
   ],
   "source": [
    "%pip --version"
   ]
  },
  {
   "cell_type": "code",
   "execution_count": 8,
   "metadata": {},
   "outputs": [
    {
     "name": "stdout",
     "output_type": "stream",
     "text": [
      "Requirement already satisfied: pip in e:\\users\\huzaifa enterprise\\anaconda3\\envs\\python12\\lib\\site-packages (23.3.1)\n",
      "Note: you may need to restart the kernel to use updated packages.\n"
     ]
    }
   ],
   "source": [
    "%pip install --upgrade pip\n"
   ]
  },
  {
   "cell_type": "code",
   "execution_count": 4,
   "metadata": {},
   "outputs": [
    {
     "name": "stdout",
     "output_type": "stream",
     "text": [
      "pip 23.3.1 from e:\\Users\\Huzaifa Enterprise\\anaconda3\\envs\\python12\\Lib\\site-packages\\pip (python 3.12)\n",
      "\n",
      "Note: you may need to restart the kernel to use updated packages.\n"
     ]
    }
   ],
   "source": [
    "%pip --version\n"
   ]
  },
  {
   "cell_type": "code",
   "execution_count": null,
   "metadata": {},
   "outputs": [],
   "source": []
  },
  {
   "cell_type": "code",
   "execution_count": 8,
   "metadata": {},
   "outputs": [
    {
     "name": "stdout",
     "output_type": "stream",
     "text": [
      "Requirement already satisfied: requests in e:\\users\\huzaifa enterprise\\anaconda3\\envs\\python12\\lib\\site-packages (2.31.0)\n",
      "Requirement already satisfied: charset-normalizer<4,>=2 in e:\\users\\huzaifa enterprise\\anaconda3\\envs\\python12\\lib\\site-packages (from requests) (3.3.2)\n",
      "Requirement already satisfied: idna<4,>=2.5 in e:\\users\\huzaifa enterprise\\anaconda3\\envs\\python12\\lib\\site-packages (from requests) (3.4)\n",
      "Requirement already satisfied: urllib3<3,>=1.21.1 in e:\\users\\huzaifa enterprise\\anaconda3\\envs\\python12\\lib\\site-packages (from requests) (2.0.7)\n",
      "Requirement already satisfied: certifi>=2017.4.17 in e:\\users\\huzaifa enterprise\\anaconda3\\envs\\python12\\lib\\site-packages (from requests) (2023.7.22)\n",
      "Note: you may need to restart the kernel to use updated packages.\n"
     ]
    }
   ],
   "source": [
    "# %pip install beautifulsoup4\n",
    "# %pip install requests"
   ]
  },
  {
   "cell_type": "code",
   "execution_count": null,
   "metadata": {},
   "outputs": [],
   "source": [
    "import requests\n",
    "from bs4 import BeautifulSoup\n",
    "print(\"Started loading\")\n",
    "# URL of the website to scrape\n",
    "url = \"https://etrade-delta.vercel.app/home/nft\"\n",
    "\n",
    "# Send an HTTP GET request to the URL\n",
    "response = requests.get(url)\n",
    "\n",
    "# Check if the request was successful\n",
    "if response.status_code == 200:\n",
    "    # Parse the HTML content of the page\n",
    "    soup = BeautifulSoup(response.text, \"html.parser\")\n",
    "    \n",
    "    # Locate the HTML elements containing product listings\n",
    "    # You may need to inspect the website's HTML structure and identify the elements that hold the product data.\n",
    "    # For demonstration purposes, let's assume product data is in div elements with a specific class.\n",
    "    product_elements = soup.find_all(\"div\", class_=\"product-listing\")\n",
    "\n",
    "    # Iterate through the product elements and extract data\n",
    "    for product in product_elements:\n",
    "        # Extract and print relevant data (modify as needed)\n",
    "        product_name = product.find(\"h2\", class_=\"product-name\").text\n",
    "        product_price = product.find(\"span\", class_=\"product-price\").text\n",
    "        print(f\"Product Name: {product_name}\")\n",
    "        print(f\"Product Price: {product_price}\")\n",
    "else:\n",
    "    print(\"Failed to retrieve the webpage. Status code:\", response.status_code)\n"
   ]
  },
  {
   "cell_type": "code",
   "execution_count": null,
   "metadata": {},
   "outputs": [],
   "source": []
  },
  {
   "cell_type": "markdown",
   "metadata": {},
   "source": [
    "# Numpy Starting"
   ]
  },
  {
   "cell_type": "code",
   "execution_count": 9,
   "metadata": {},
   "outputs": [
    {
     "name": "stdout",
     "output_type": "stream",
     "text": [
      "Collecting nptyping\n",
      "  Downloading nptyping-2.5.0-py3-none-any.whl (37 kB)\n",
      "Collecting beartype\n",
      "  Downloading beartype-0.16.4-py3-none-any.whl.metadata (29 kB)\n",
      "Collecting numpy<2.0.0,>=1.20.0 (from nptyping)\n",
      "  Using cached numpy-1.26.1-cp312-cp312-win_amd64.whl.metadata (61 kB)\n",
      "Downloading beartype-0.16.4-py3-none-any.whl (819 kB)\n",
      "   ---------------------------------------- 0.0/819.1 kB ? eta -:--:--\n",
      "   ----- ---------------------------------- 112.6/819.1 kB 2.2 MB/s eta 0:00:01\n",
      "   ----- ---------------------------------- 112.6/819.1 kB 2.2 MB/s eta 0:00:01\n",
      "   ----- ---------------------------------- 112.6/819.1 kB 2.2 MB/s eta 0:00:01\n",
      "   -------- ------------------------------- 163.8/819.1 kB 1.1 MB/s eta 0:00:01\n",
      "   -------- ----------------------------- 174.1/819.1 kB 807.1 kB/s eta 0:00:01\n",
      "   --------- ---------------------------- 204.8/819.1 kB 831.5 kB/s eta 0:00:01\n",
      "   --------- ---------------------------- 204.8/819.1 kB 831.5 kB/s eta 0:00:01\n",
      "   ----------- -------------------------- 256.0/819.1 kB 716.5 kB/s eta 0:00:01\n",
      "   ------------ ------------------------- 276.5/819.1 kB 741.6 kB/s eta 0:00:01\n",
      "   ------------ ------------------------- 276.5/819.1 kB 741.6 kB/s eta 0:00:01\n",
      "   --------------- ---------------------- 327.7/819.1 kB 700.8 kB/s eta 0:00:01\n",
      "   --------------- ---------------------- 327.7/819.1 kB 700.8 kB/s eta 0:00:01\n",
      "   --------------- ---------------------- 327.7/819.1 kB 700.8 kB/s eta 0:00:01\n",
      "   --------------- ---------------------- 327.7/819.1 kB 700.8 kB/s eta 0:00:01\n",
      "   --------------- ---------------------- 327.7/819.1 kB 700.8 kB/s eta 0:00:01\n",
      "   ---------------- --------------------- 358.4/819.1 kB 484.9 kB/s eta 0:00:01\n",
      "   ----------------- -------------------- 368.6/819.1 kB 488.3 kB/s eta 0:00:01\n",
      "   ----------------- -------------------- 368.6/819.1 kB 488.3 kB/s eta 0:00:01\n",
      "   ----------------- -------------------- 368.6/819.1 kB 488.3 kB/s eta 0:00:01\n",
      "   ----------------- -------------------- 368.6/819.1 kB 488.3 kB/s eta 0:00:01\n",
      "   ----------------- -------------------- 368.6/819.1 kB 488.3 kB/s eta 0:00:01\n",
      "   ----------------- -------------------- 368.6/819.1 kB 488.3 kB/s eta 0:00:01\n",
      "   ----------------- -------------------- 368.6/819.1 kB 488.3 kB/s eta 0:00:01\n",
      "   ----------------- -------------------- 368.6/819.1 kB 488.3 kB/s eta 0:00:01\n",
      "   ----------------- -------------------- 368.6/819.1 kB 488.3 kB/s eta 0:00:01\n",
      "   ----------------- -------------------- 368.6/819.1 kB 488.3 kB/s eta 0:00:01\n",
      "   ----------------- -------------------- 368.6/819.1 kB 488.3 kB/s eta 0:00:01\n",
      "   ------------------- ------------------ 409.6/819.1 kB 319.5 kB/s eta 0:00:02\n",
      "   ------------------- ------------------ 409.6/819.1 kB 319.5 kB/s eta 0:00:02\n",
      "   ------------------- ------------------ 419.8/819.1 kB 297.9 kB/s eta 0:00:02\n",
      "   ------------------- ------------------ 419.8/819.1 kB 297.9 kB/s eta 0:00:02\n",
      "   -------------------- ----------------- 440.3/819.1 kB 296.0 kB/s eta 0:00:02\n",
      "   -------------------- ----------------- 440.3/819.1 kB 296.0 kB/s eta 0:00:02\n",
      "   -------------------- ----------------- 440.3/819.1 kB 296.0 kB/s eta 0:00:02\n",
      "   -------------------- ----------------- 450.6/819.1 kB 276.4 kB/s eta 0:00:02\n",
      "   -------------------- ----------------- 450.6/819.1 kB 276.4 kB/s eta 0:00:02\n",
      "   --------------------- ---------------- 471.0/819.1 kB 275.8 kB/s eta 0:00:02\n",
      "   ---------------------- --------------- 491.5/819.1 kB 280.1 kB/s eta 0:00:02\n",
      "   ------------------------ ------------- 522.2/819.1 kB 287.5 kB/s eta 0:00:02\n",
      "   ------------------------- ------------ 553.0/819.1 kB 299.5 kB/s eta 0:00:01\n",
      "   --------------------------- ---------- 593.9/819.1 kB 311.3 kB/s eta 0:00:01\n",
      "   ----------------------------- -------- 634.9/819.1 kB 325.2 kB/s eta 0:00:01\n",
      "   ------------------------------ ------- 665.6/819.1 kB 335.6 kB/s eta 0:00:01\n",
      "   ------------------------------ ------- 665.6/819.1 kB 335.6 kB/s eta 0:00:01\n",
      "   ------------------------------ ------- 665.6/819.1 kB 335.6 kB/s eta 0:00:01\n",
      "   ------------------------------ ------- 665.6/819.1 kB 335.6 kB/s eta 0:00:01\n",
      "   ------------------------------ ------- 665.6/819.1 kB 335.6 kB/s eta 0:00:01\n",
      "   ------------------------------ ------- 665.6/819.1 kB 335.6 kB/s eta 0:00:01\n",
      "   ------------------------------ ------- 665.6/819.1 kB 335.6 kB/s eta 0:00:01\n",
      "   ------------------------------ ------- 665.6/819.1 kB 335.6 kB/s eta 0:00:01\n",
      "   ------------------------------ ------- 665.6/819.1 kB 335.6 kB/s eta 0:00:01\n",
      "   ------------------------------ ------- 665.6/819.1 kB 335.6 kB/s eta 0:00:01\n",
      "   ------------------------------ ------- 665.6/819.1 kB 335.6 kB/s eta 0:00:01\n",
      "   ------------------------------ ------- 665.6/819.1 kB 335.6 kB/s eta 0:00:01\n",
      "   ------------------------------ ------- 665.6/819.1 kB 335.6 kB/s eta 0:00:01\n",
      "   ------------------------------ ------- 665.6/819.1 kB 335.6 kB/s eta 0:00:01\n",
      "   ------------------------------ ------- 665.6/819.1 kB 335.6 kB/s eta 0:00:01\n",
      "   ------------------------------ ------- 665.6/819.1 kB 335.6 kB/s eta 0:00:01\n",
      "   ------------------------------ ------- 665.6/819.1 kB 335.6 kB/s eta 0:00:01\n",
      "   ------------------------------ ------- 665.6/819.1 kB 335.6 kB/s eta 0:00:01\n",
      "   ------------------------------ ------- 665.6/819.1 kB 335.6 kB/s eta 0:00:01\n",
      "   -------------------------------- ----- 696.3/819.1 kB 244.0 kB/s eta 0:00:01\n",
      "   -------------------------------- ----- 696.3/819.1 kB 244.0 kB/s eta 0:00:01\n",
      "   --------------------------------- ---- 716.8/819.1 kB 243.1 kB/s eta 0:00:01\n",
      "   --------------------------------- ---- 716.8/819.1 kB 243.1 kB/s eta 0:00:01\n",
      "   --------------------------------- ---- 716.8/819.1 kB 243.1 kB/s eta 0:00:01\n",
      "   --------------------------------- ---- 727.0/819.1 kB 234.1 kB/s eta 0:00:01\n",
      "   --------------------------------- ---- 727.0/819.1 kB 234.1 kB/s eta 0:00:01\n",
      "   --------------------------------- ---- 727.0/819.1 kB 234.1 kB/s eta 0:00:01\n",
      "   --------------------------------- ---- 727.0/819.1 kB 234.1 kB/s eta 0:00:01\n",
      "   --------------------------------- ---- 727.0/819.1 kB 234.1 kB/s eta 0:00:01\n",
      "   --------------------------------- ---- 727.0/819.1 kB 234.1 kB/s eta 0:00:01\n",
      "   ---------------------------------- --- 747.5/819.1 kB 221.5 kB/s eta 0:00:01\n",
      "   ---------------------------------- --- 747.5/819.1 kB 221.5 kB/s eta 0:00:01\n",
      "   ---------------------------------- --- 747.5/819.1 kB 221.5 kB/s eta 0:00:01\n",
      "   ---------------------------------- --- 747.5/819.1 kB 221.5 kB/s eta 0:00:01\n",
      "   ------------------------------------ - 778.2/819.1 kB 218.5 kB/s eta 0:00:01\n",
      "   ------------------------------------ - 778.2/819.1 kB 218.5 kB/s eta 0:00:01\n",
      "   -------------------------------------  798.7/819.1 kB 218.5 kB/s eta 0:00:01\n",
      "   -------------------------------------- 819.1/819.1 kB 222.2 kB/s eta 0:00:00\n",
      "Using cached numpy-1.26.1-cp312-cp312-win_amd64.whl (15.5 MB)\n",
      "Installing collected packages: numpy, beartype, nptyping\n",
      "  Attempting uninstall: numpy\n",
      "    Found existing installation: numpy 1.26.1\n",
      "    Uninstalling numpy-1.26.1:\n",
      "      Successfully uninstalled numpy-1.26.1\n",
      "Successfully installed beartype-0.16.4 nptyping-2.5.0 numpy-1.26.1\n",
      "Note: you may need to restart the kernel to use updated packages.\n"
     ]
    },
    {
     "name": "stderr",
     "output_type": "stream",
     "text": [
      "  WARNING: The script f2py.exe is installed in 'e:\\Users\\Huzaifa Enterprise\\anaconda3\\envs\\python12\\Scripts' which is not on PATH.\n",
      "  Consider adding this directory to PATH or, if you prefer to suppress this warning, use --no-warn-script-location.\n"
     ]
    }
   ],
   "source": [
    "%pip install nptyping beartype --upgrade --force"
   ]
  },
  {
   "cell_type": "code",
   "execution_count": 28,
   "metadata": {},
   "outputs": [
    {
     "data": {
      "text/plain": [
       "'Vlaue in array - 100'"
      ]
     },
     "metadata": {},
     "output_type": "display_data"
    },
    {
     "data": {
      "text/plain": [
       "'Shape of object - ()'"
      ]
     },
     "metadata": {},
     "output_type": "display_data"
    },
    {
     "data": {
      "text/plain": [
       "'dType of Object - int32'"
      ]
     },
     "metadata": {},
     "output_type": "display_data"
    },
    {
     "data": {
      "text/plain": [
       "\"data typr of Object - <class 'numpy.ndarray'>\""
      ]
     },
     "metadata": {},
     "output_type": "display_data"
    },
    {
     "data": {
      "text/plain": [
       "'number of dimensions- 0'"
      ]
     },
     "metadata": {},
     "output_type": "display_data"
    },
    {
     "data": {
      "text/plain": [
       "'size of the object - 1'"
      ]
     },
     "metadata": {},
     "output_type": "display_data"
    },
    {
     "data": {
      "text/plain": [
       "4"
      ]
     },
     "metadata": {},
     "output_type": "display_data"
    }
   ],
   "source": [
    "import numpy as np\n",
    "\n",
    "a : np.ndarray = np.array(100) # object to store\n",
    "\n",
    "display(f'Vlaue in array - {a}') # prints\n",
    "display(f'Shape of object - {a.shape}') # prints the shape of the object () = 0 -Denormalized\n",
    "display(f'dType of Object - {a.dtype}') # prints the dtype of the object\n",
    "display(f'data typr of Object - {type(a)}') \n",
    "display(f'number of dimensions- {a.ndim}') # prints the number of dimensions\n",
    "display(f'size of the object - {a.size}') # prints the size of the object\n",
    "display(a.itemsize) # prints the itemsize of the object"
   ]
  },
  {
   "cell_type": "code",
   "execution_count": 25,
   "metadata": {},
   "outputs": [
    {
     "data": {
      "text/plain": [
       "' object [1 2 3 4]'"
      ]
     },
     "metadata": {},
     "output_type": "display_data"
    },
    {
     "data": {
      "text/plain": [
       "'objec shape (4,)'"
      ]
     },
     "metadata": {},
     "output_type": "display_data"
    },
    {
     "data": {
      "text/plain": [
       "' Object type int32'"
      ]
     },
     "metadata": {},
     "output_type": "display_data"
    },
    {
     "data": {
      "text/plain": [
       "\"Object type with global function <class 'numpy.ndarray'>\""
      ]
     },
     "metadata": {},
     "output_type": "display_data"
    },
    {
     "data": {
      "text/plain": [
       "'Number of dimension 1'"
      ]
     },
     "metadata": {},
     "output_type": "display_data"
    },
    {
     "data": {
      "text/plain": [
       "'Total items in Array : 4'"
      ]
     },
     "metadata": {},
     "output_type": "display_data"
    },
    {
     "data": {
      "text/plain": [
       "'4'"
      ]
     },
     "metadata": {},
     "output_type": "display_data"
    }
   ],
   "source": [
    "import numpy as np\n",
    "\n",
    "a : np.ndarray = np.array([1,2,3,4]) # object to store [1,2,3,4] = vector\n",
    "\n",
    "display(f\" object {a}\") # prints\n",
    "display(f\"objec shape {a.shape}\") # prints the shape of the object () = 0 -Denormalized\n",
    "display(f\" Object type {a.dtype}\") # prints the dtype of the object\n",
    "display(f\"Object type with global function {type(a)}\") # prints the dtype of the\n",
    "display(f\"Number of dimension {a.ndim}\") # prints the number of dimensions\n",
    "display(f\"Total items in Array : {a.size}\") # prints the size of the object\n",
    "display(f\"{a.itemsize}\") # prints the itemsize of the object"
   ]
  },
  {
   "cell_type": "code",
   "execution_count": 26,
   "metadata": {},
   "outputs": [
    {
     "data": {
      "text/plain": [
       "' object [[ 0  1  2  3]\\n [ 5  6  7  8]\\n [ 9 10 11 12]]'"
      ]
     },
     "metadata": {},
     "output_type": "display_data"
    },
    {
     "data": {
      "text/plain": [
       "'objec shape (3, 4)'"
      ]
     },
     "metadata": {},
     "output_type": "display_data"
    },
    {
     "data": {
      "text/plain": [
       "' Object type int32'"
      ]
     },
     "metadata": {},
     "output_type": "display_data"
    },
    {
     "data": {
      "text/plain": [
       "\"Object type with global function <class 'numpy.ndarray'>\""
      ]
     },
     "metadata": {},
     "output_type": "display_data"
    },
    {
     "data": {
      "text/plain": [
       "'Number of dimension 2'"
      ]
     },
     "metadata": {},
     "output_type": "display_data"
    },
    {
     "data": {
      "text/plain": [
       "'Total items in Array : 12'"
      ]
     },
     "metadata": {},
     "output_type": "display_data"
    },
    {
     "data": {
      "text/plain": [
       "'4'"
      ]
     },
     "metadata": {},
     "output_type": "display_data"
    }
   ],
   "source": [
    "import numpy as np\n",
    "\n",
    "data = ([0,1,2,3],[5,6,7,8],[9,10,11,12])\n",
    "\n",
    "a : np.ndarray = np.array(data) # object to store [1,2,3,4] = vector\n",
    "\n",
    "display(f\" object {a}\") # prints\n",
    "display(f\"objec shape {a.shape}\") # prints the shape of the object () = 0 -Denormalized\n",
    "display(f\" Object type {a.dtype}\") # prints the dtype of the object\n",
    "display(f\"Object type with global function {type(a)}\") # prints the dtype of the\n",
    "display(f\"Number of dimension {a.ndim}\") # prints the number of dimensions\n",
    "display(f\"Total items in Array : {a.size}\") # prints the size of the object\n",
    "display(f\"{a.itemsize}\") # prints the itemsize of the object"
   ]
  },
  {
   "cell_type": "markdown",
   "metadata": {},
   "source": [
    "# ND Array"
   ]
  },
  {
   "cell_type": "code",
   "execution_count": 27,
   "metadata": {},
   "outputs": [
    {
     "name": "stdout",
     "output_type": "stream",
     "text": [
      "[ 1  2  3  4  5  6  7  8  9 10]\n",
      "[ 6  7  8  9 10 11 12 13 14 15]\n"
     ]
    }
   ],
   "source": [
    "from nptyping import NDArray, Shape, UInt64\n",
    "from typing import Any\n",
    "\n",
    "data : NDArray[Shape[\"10\"], Any] = np.arange(1,11)\n",
    "\n",
    "print(data)\n",
    "print(data + 5) # addition operation"
   ]
  },
  {
   "cell_type": "markdown",
   "metadata": {},
   "source": [
    "# Testing Codeium \n",
    "* Extension of VS Code"
   ]
  },
  {
   "cell_type": "code",
   "execution_count": 24,
   "metadata": {},
   "outputs": [
    {
     "name": "stdout",
     "output_type": "stream",
     "text": [
      "klvsrnxava\n"
     ]
    }
   ],
   "source": [
    "# Creare a random string of given length\n",
    "import random\n",
    "import string\n",
    "\n",
    "\n",
    "def random_string(length):\n",
    "    letters = string.ascii_lowercase\n",
    "    result_str = ''.join(random.choice(letters) for i in range(length))\n",
    "    return result_str\n",
    "print(random_string(10))\n"
   ]
  },
  {
   "cell_type": "markdown",
   "metadata": {},
   "source": []
  },
  {
   "cell_type": "code",
   "execution_count": 29,
   "metadata": {},
   "outputs": [
    {
     "name": "stderr",
     "output_type": "stream",
     "text": [
      "UsageError: Line magic function `%%time` not found.\n"
     ]
    }
   ],
   "source": [
    "import nptyping as np\n",
    "import time\n",
    "\n",
    "%%time\n",
    "\n",
    "data : NDArray[Shape[\"10\"], Any] = np.arange(1,10000000)\n",
    "\n",
    "data + 5 # addition operation"
   ]
  },
  {
   "cell_type": "code",
   "execution_count": 31,
   "metadata": {},
   "outputs": [
    {
     "name": "stdout",
     "output_type": "stream",
     "text": [
      "Requirement already satisfied: numpy in e:\\users\\huzaifa enterprise\\anaconda3\\envs\\python12\\lib\\site-packages (1.26.1)\n",
      "Note: you may need to restart the kernel to use updated packages.\n"
     ]
    }
   ],
   "source": [
    "%pip install numpy"
   ]
  },
  {
   "cell_type": "code",
   "execution_count": 32,
   "metadata": {},
   "outputs": [
    {
     "ename": "AttributeError",
     "evalue": "module 'nptyping' has no attribute 'arange'",
     "output_type": "error",
     "traceback": [
      "\u001b[1;31m---------------------------------------------------------------------------\u001b[0m",
      "\u001b[1;31mAttributeError\u001b[0m                            Traceback (most recent call last)",
      "\u001b[1;32me:\\Yasir\\PIAIC\\Python\\pyton.ipynb Cell 52\u001b[0m line \u001b[0;36m6\n\u001b[0;32m      <a href='vscode-notebook-cell:/e%3A/Yasir/PIAIC/Python/pyton.ipynb#Y102sZmlsZQ%3D%3D?line=1'>2</a>\u001b[0m \u001b[39mimport\u001b[39;00m \u001b[39mtime\u001b[39;00m\n\u001b[0;32m      <a href='vscode-notebook-cell:/e%3A/Yasir/PIAIC/Python/pyton.ipynb#Y102sZmlsZQ%3D%3D?line=3'>4</a>\u001b[0m start_time \u001b[39m=\u001b[39m time\u001b[39m.\u001b[39mtime()\n\u001b[1;32m----> <a href='vscode-notebook-cell:/e%3A/Yasir/PIAIC/Python/pyton.ipynb#Y102sZmlsZQ%3D%3D?line=5'>6</a>\u001b[0m data \u001b[39m=\u001b[39m np\u001b[39m.\u001b[39;49marange(\u001b[39m1\u001b[39m, \u001b[39m10000000\u001b[39m)\n\u001b[0;32m      <a href='vscode-notebook-cell:/e%3A/Yasir/PIAIC/Python/pyton.ipynb#Y102sZmlsZQ%3D%3D?line=7'>8</a>\u001b[0m result \u001b[39m=\u001b[39m data \u001b[39m+\u001b[39m \u001b[39m5\u001b[39m  \u001b[39m# addition operation\u001b[39;00m\n\u001b[0;32m     <a href='vscode-notebook-cell:/e%3A/Yasir/PIAIC/Python/pyton.ipynb#Y102sZmlsZQ%3D%3D?line=9'>10</a>\u001b[0m end_time \u001b[39m=\u001b[39m time\u001b[39m.\u001b[39mtime()\n",
      "\u001b[1;31mAttributeError\u001b[0m: module 'nptyping' has no attribute 'arange'"
     ]
    }
   ],
   "source": [
    "import nptyping as np\n",
    "import time\n",
    "\n",
    "start_time = time.time()\n",
    "\n",
    "data = np.arange(1, 10000000)\n",
    "\n",
    "result = data + 5  # addition operation\n",
    "\n",
    "end_time = time.time()\n",
    "execution_time = end_time - start_time\n",
    "\n",
    "print(\"Execution time:\", execution_time, \"seconds\")\n"
   ]
  },
  {
   "cell_type": "code",
   "execution_count": 1,
   "metadata": {},
   "outputs": [
    {
     "name": "stdout",
     "output_type": "stream",
     "text": [
      "Execution time: 0.184586763381958 seconds\n"
     ]
    }
   ],
   "source": [
    "import numpy as np\n",
    "import time\n",
    "\n",
    "start_time = time.time()\n",
    "\n",
    "data = np.arange(1, 100000000)\n",
    "\n",
    "result = data + 5  # addition operation\n",
    "\n",
    "end_time = time.time()\n",
    "execution_time = end_time - start_time\n",
    "\n",
    "print(\"Execution time:\", execution_time, \"seconds\")\n"
   ]
  },
  {
   "cell_type": "code",
   "execution_count": 2,
   "metadata": {},
   "outputs": [
    {
     "name": "stdout",
     "output_type": "stream",
     "text": [
      "Execution time: 36.189820528030396 seconds\n"
     ]
    }
   ],
   "source": [
    "import numpy as np\n",
    "import time\n",
    "\n",
    "start_time = time.time()\n",
    "\n",
    "data : list[int] = list(range(1,100000000))\n",
    "\n",
    "[i + 5  for i in data]# addition operation\n",
    "\n",
    "end_time = time.time()\n",
    "execution_time = end_time - start_time\n",
    "\n",
    "print(\"Execution time:\", execution_time, \"seconds\")"
   ]
  },
  {
   "cell_type": "code",
   "execution_count": 17,
   "metadata": {},
   "outputs": [
    {
     "name": "stdout",
     "output_type": "stream",
     "text": [
      "YES! We have a match! in 'The rain in Spain'\n"
     ]
    }
   ],
   "source": [
    "import re\n",
    "\n",
    "#Check if the string starts with \"The\" and ends with \"Spain\":\n",
    "\n",
    "txt = \"The rain in Spain\"\n",
    "x = re.search(\".*The.*Spain$\", txt)\n",
    "\n",
    "if x:\n",
    "  print(f\"YES! We have a match! in '{x.group()}'\")\n",
    "else:\n",
    "  print(\"No match\")\n"
   ]
  },
  {
   "cell_type": "code",
   "execution_count": 1,
   "metadata": {},
   "outputs": [
    {
     "name": "stdout",
     "output_type": "stream",
     "text": [
      "Collecting python-dotenv (from -r requirement.txt (line 1))\n",
      "  Downloading python_dotenv-1.0.0-py3-none-any.whl (19 kB)\n",
      "Collecting openai (from -r requirement.txt (line 2))\n",
      "  Obtaining dependency information for openai from https://files.pythonhosted.org/packages/2d/4c/80a612e84c3ba10a6e16c5bfd1f10055a3f0f11f345676ad0a8d271a5577/openai-1.3.1-py3-none-any.whl.metadata\n",
      "  Downloading openai-1.3.1-py3-none-any.whl.metadata (16 kB)\n",
      "Collecting anyio<4,>=3.5.0 (from openai->-r requirement.txt (line 2))\n",
      "  Obtaining dependency information for anyio<4,>=3.5.0 from https://files.pythonhosted.org/packages/19/24/44299477fe7dcc9cb58d0a57d5a7588d6af2ff403fdd2d47a246c91a3246/anyio-3.7.1-py3-none-any.whl.metadata\n",
      "  Downloading anyio-3.7.1-py3-none-any.whl.metadata (4.7 kB)\n",
      "Collecting distro<2,>=1.7.0 (from openai->-r requirement.txt (line 2))\n",
      "  Downloading distro-1.8.0-py3-none-any.whl (20 kB)\n",
      "Collecting httpx<1,>=0.23.0 (from openai->-r requirement.txt (line 2))\n",
      "  Obtaining dependency information for httpx<1,>=0.23.0 from https://files.pythonhosted.org/packages/82/61/a5fca4a1e88e40969bbd0cf0d981f3aa76d5057db160b94f49603fc18740/httpx-0.25.1-py3-none-any.whl.metadata\n",
      "  Downloading httpx-0.25.1-py3-none-any.whl.metadata (7.1 kB)\n",
      "Collecting pydantic<3,>=1.9.0 (from openai->-r requirement.txt (line 2))\n",
      "  Obtaining dependency information for pydantic<3,>=1.9.0 from https://files.pythonhosted.org/packages/e2/2c/9906b7abc337b0250a5634de5396e2f3cb1b837af0616424c2225a65aa80/pydantic-2.5.1-py3-none-any.whl.metadata\n",
      "  Downloading pydantic-2.5.1-py3-none-any.whl.metadata (64 kB)\n",
      "     ---------------------------------------- 0.0/64.1 kB ? eta -:--:--\n",
      "     ------ --------------------------------- 10.2/64.1 kB ? eta -:--:--\n",
      "     ------------------- -------------------- 30.7/64.1 kB 1.3 MB/s eta 0:00:01\n",
      "     ------------------- -------------------- 30.7/64.1 kB 1.3 MB/s eta 0:00:01\n",
      "     ------------------- -------------------- 30.7/64.1 kB 1.3 MB/s eta 0:00:01\n",
      "     ------------------------------------ - 61.4/64.1 kB 233.8 kB/s eta 0:00:01\n",
      "     -------------------------------------- 64.1/64.1 kB 246.0 kB/s eta 0:00:00\n",
      "Collecting tqdm>4 (from openai->-r requirement.txt (line 2))\n",
      "  Obtaining dependency information for tqdm>4 from https://files.pythonhosted.org/packages/00/e5/f12a80907d0884e6dff9c16d0c0114d81b8cd07dc3ae54c5e962cc83037e/tqdm-4.66.1-py3-none-any.whl.metadata\n",
      "  Downloading tqdm-4.66.1-py3-none-any.whl.metadata (57 kB)\n",
      "     ---------------------------------------- 0.0/57.6 kB ? eta -:--:--\n",
      "     ------- -------------------------------- 10.2/57.6 kB ? eta -:--:--\n",
      "     -------------------- ----------------- 30.7/57.6 kB 435.7 kB/s eta 0:00:01\n",
      "     --------------------------------- ---- 51.2/57.6 kB 372.4 kB/s eta 0:00:01\n",
      "     -------------------------------------- 57.6/57.6 kB 430.6 kB/s eta 0:00:00\n",
      "Collecting typing-extensions<5,>=4.5 (from openai->-r requirement.txt (line 2))\n",
      "  Obtaining dependency information for typing-extensions<5,>=4.5 from https://files.pythonhosted.org/packages/24/21/7d397a4b7934ff4028987914ac1044d3b7d52712f30e2ac7a2ae5bc86dd0/typing_extensions-4.8.0-py3-none-any.whl.metadata\n",
      "  Downloading typing_extensions-4.8.0-py3-none-any.whl.metadata (3.0 kB)\n",
      "Requirement already satisfied: idna>=2.8 in c:\\users\\huzaifa enterprise\\appdata\\local\\programs\\python\\python312\\lib\\site-packages (from anyio<4,>=3.5.0->openai->-r requirement.txt (line 2)) (3.4)\n",
      "Collecting sniffio>=1.1 (from anyio<4,>=3.5.0->openai->-r requirement.txt (line 2))\n",
      "  Downloading sniffio-1.3.0-py3-none-any.whl (10 kB)\n",
      "Requirement already satisfied: certifi in c:\\users\\huzaifa enterprise\\appdata\\local\\programs\\python\\python312\\lib\\site-packages (from httpx<1,>=0.23.0->openai->-r requirement.txt (line 2)) (2023.7.22)\n",
      "Collecting httpcore (from httpx<1,>=0.23.0->openai->-r requirement.txt (line 2))\n",
      "  Obtaining dependency information for httpcore from https://files.pythonhosted.org/packages/56/ba/78b0a99c4da0ff8b0f59defa2f13ca4668189b134bd9840b6202a93d9a0f/httpcore-1.0.2-py3-none-any.whl.metadata\n",
      "  Downloading httpcore-1.0.2-py3-none-any.whl.metadata (20 kB)\n",
      "Collecting annotated-types>=0.4.0 (from pydantic<3,>=1.9.0->openai->-r requirement.txt (line 2))\n",
      "  Obtaining dependency information for annotated-types>=0.4.0 from https://files.pythonhosted.org/packages/28/78/d31230046e58c207284c6b2c4e8d96e6d3cb4e52354721b944d3e1ee4aa5/annotated_types-0.6.0-py3-none-any.whl.metadata\n",
      "  Downloading annotated_types-0.6.0-py3-none-any.whl.metadata (12 kB)\n",
      "Collecting pydantic-core==2.14.3 (from pydantic<3,>=1.9.0->openai->-r requirement.txt (line 2))\n",
      "  Obtaining dependency information for pydantic-core==2.14.3 from https://files.pythonhosted.org/packages/24/36/70e6a9eb6d7f9739d5cd840d683ad99748c95bf9d118f2bbc38009e6bf9c/pydantic_core-2.14.3-cp312-none-win_amd64.whl.metadata\n",
      "  Downloading pydantic_core-2.14.3-cp312-none-win_amd64.whl.metadata (6.6 kB)\n",
      "Requirement already satisfied: colorama in c:\\users\\huzaifa enterprise\\appdata\\roaming\\python\\python312\\site-packages (from tqdm>4->openai->-r requirement.txt (line 2)) (0.4.6)\n",
      "Collecting h11<0.15,>=0.13 (from httpcore->httpx<1,>=0.23.0->openai->-r requirement.txt (line 2))\n",
      "  Downloading h11-0.14.0-py3-none-any.whl (58 kB)\n",
      "     ---------------------------------------- 0.0/58.3 kB ? eta -:--:--\n",
      "     -------------------- ----------------- 30.7/58.3 kB 640.0 kB/s eta 0:00:01\n",
      "     -------------------------------------- 58.3/58.3 kB 607.8 kB/s eta 0:00:00\n",
      "Downloading openai-1.3.1-py3-none-any.whl (220 kB)\n",
      "   ---------------------------------------- 0.0/220.3 kB ? eta -:--:--\n",
      "   - -------------------------------------- 10.2/220.3 kB ? eta -:--:--\n",
      "   - -------------------------------------- 10.2/220.3 kB ? eta -:--:--\n",
      "   ----- --------------------------------- 30.7/220.3 kB 262.6 kB/s eta 0:00:01\n",
      "   ------- ------------------------------- 41.0/220.3 kB 217.9 kB/s eta 0:00:01\n",
      "   ------- ------------------------------- 41.0/220.3 kB 217.9 kB/s eta 0:00:01\n",
      "   ------- ------------------------------- 41.0/220.3 kB 217.9 kB/s eta 0:00:01\n",
      "   ------- ------------------------------- 41.0/220.3 kB 217.9 kB/s eta 0:00:01\n",
      "   ------- ------------------------------- 41.0/220.3 kB 217.9 kB/s eta 0:00:01\n",
      "   ---------- ---------------------------- 61.4/220.3 kB 148.8 kB/s eta 0:00:02\n",
      "   ---------- ---------------------------- 61.4/220.3 kB 148.8 kB/s eta 0:00:02\n",
      "   ---------- ---------------------------- 61.4/220.3 kB 148.8 kB/s eta 0:00:02\n",
      "   ------------ -------------------------- 71.7/220.3 kB 119.1 kB/s eta 0:00:02\n",
      "   ------------ -------------------------- 71.7/220.3 kB 119.1 kB/s eta 0:00:02\n",
      "   ---------------- ---------------------- 92.2/220.3 kB 141.7 kB/s eta 0:00:01\n",
      "   ------------------- ------------------ 112.6/220.3 kB 163.8 kB/s eta 0:00:01\n",
      "   ------------------- ------------------ 112.6/220.3 kB 163.8 kB/s eta 0:00:01\n",
      "   ------------------- ------------------ 112.6/220.3 kB 163.8 kB/s eta 0:00:01\n",
      "   --------------------- ---------------- 122.9/220.3 kB 150.2 kB/s eta 0:00:01\n",
      "   --------------------- ---------------- 122.9/220.3 kB 150.2 kB/s eta 0:00:01\n",
      "   ------------------------ ------------- 143.4/220.3 kB 155.0 kB/s eta 0:00:01\n",
      "   -------------------------- ----------- 153.6/220.3 kB 155.5 kB/s eta 0:00:01\n",
      "   ------------------------------ ------- 174.1/220.3 kB 166.5 kB/s eta 0:00:01\n",
      "   ------------------------------ ------- 174.1/220.3 kB 166.5 kB/s eta 0:00:01\n",
      "   ------------------------------ ------- 174.1/220.3 kB 166.5 kB/s eta 0:00:01\n",
      "   ------------------------------ ------- 174.1/220.3 kB 166.5 kB/s eta 0:00:01\n",
      "   ------------------------------ ------- 174.1/220.3 kB 166.5 kB/s eta 0:00:01\n",
      "   ------------------------------- ------ 184.3/220.3 kB 141.1 kB/s eta 0:00:01\n",
      "   --------------------------------- ---- 194.6/220.3 kB 149.4 kB/s eta 0:00:01\n",
      "   --------------------------------- ---- 194.6/220.3 kB 149.4 kB/s eta 0:00:01\n",
      "   ----------------------------------- -- 204.8/220.3 kB 143.2 kB/s eta 0:00:01\n",
      "   -------------------------------------- 220.3/220.3 kB 149.4 kB/s eta 0:00:00\n",
      "Downloading anyio-3.7.1-py3-none-any.whl (80 kB)\n",
      "   ---------------------------------------- 0.0/80.9 kB ? eta -:--:--\n",
      "   ---------------------------------------- 0.0/80.9 kB ? eta -:--:--\n",
      "   ---------------------------------------- 0.0/80.9 kB ? eta -:--:--\n",
      "   ---------------------------------------- 0.0/80.9 kB ? eta -:--:--\n",
      "   ----- ---------------------------------- 10.2/80.9 kB ? eta -:--:--\n",
      "   --------------- ------------------------ 30.7/80.9 kB 217.9 kB/s eta 0:00:01\n",
      "   --------------- ------------------------ 30.7/80.9 kB 217.9 kB/s eta 0:00:01\n",
      "   -------------------- ------------------- 41.0/80.9 kB 178.6 kB/s eta 0:00:01\n",
      "   -------------------- ------------------- 41.0/80.9 kB 178.6 kB/s eta 0:00:01\n",
      "   -------------------- ------------------- 41.0/80.9 kB 178.6 kB/s eta 0:00:01\n",
      "   -------------------- ------------------- 41.0/80.9 kB 178.6 kB/s eta 0:00:01\n",
      "   ------------------------------ --------- 61.4/80.9 kB 156.1 kB/s eta 0:00:01\n",
      "   ------------------------------ --------- 61.4/80.9 kB 156.1 kB/s eta 0:00:01\n",
      "   ---------------------------------------- 80.9/80.9 kB 156.0 kB/s eta 0:00:00\n",
      "Downloading httpx-0.25.1-py3-none-any.whl (75 kB)\n",
      "   ---------------------------------------- 0.0/75.0 kB ? eta -:--:--\n",
      "   ---------------------------------------- 0.0/75.0 kB ? eta -:--:--\n",
      "   ---------------------------------------- 0.0/75.0 kB ? eta -:--:--\n",
      "   ----- ---------------------------------- 10.2/75.0 kB ? eta -:--:--\n",
      "   ---------------- ----------------------- 30.7/75.0 kB 330.3 kB/s eta 0:00:01\n",
      "   --------------------- ------------------ 41.0/75.0 kB 219.4 kB/s eta 0:00:01\n",
      "   --------------------- ------------------ 41.0/75.0 kB 219.4 kB/s eta 0:00:01\n",
      "   -------------------------------- ------- 61.4/75.0 kB 233.8 kB/s eta 0:00:01\n",
      "   ---------------------------------------- 75.0/75.0 kB 244.5 kB/s eta 0:00:00\n",
      "Downloading pydantic-2.5.1-py3-none-any.whl (381 kB)\n",
      "   ---------------------------------------- 0.0/381.6 kB ? eta -:--:--\n",
      "   ---------------------------------------- 0.0/381.6 kB ? eta -:--:--\n",
      "   - -------------------------------------- 10.2/381.6 kB ? eta -:--:--\n",
      "   --- ----------------------------------- 30.7/381.6 kB 445.2 kB/s eta 0:00:01\n",
      "   ---- ---------------------------------- 41.0/381.6 kB 330.3 kB/s eta 0:00:02\n",
      "   ---- ---------------------------------- 41.0/381.6 kB 330.3 kB/s eta 0:00:02\n",
      "   ---- ---------------------------------- 41.0/381.6 kB 330.3 kB/s eta 0:00:02\n",
      "   ---- ---------------------------------- 41.0/381.6 kB 330.3 kB/s eta 0:00:02\n",
      "   ---- ---------------------------------- 41.0/381.6 kB 330.3 kB/s eta 0:00:02\n",
      "   ------ -------------------------------- 61.4/381.6 kB 164.1 kB/s eta 0:00:02\n",
      "   ------ -------------------------------- 61.4/381.6 kB 164.1 kB/s eta 0:00:02\n",
      "   ------- ------------------------------- 71.7/381.6 kB 157.5 kB/s eta 0:00:02\n",
      "   --------- ----------------------------- 92.2/381.6 kB 180.8 kB/s eta 0:00:02\n",
      "   ----------- -------------------------- 112.6/381.6 kB 192.8 kB/s eta 0:00:02\n",
      "   ----------- -------------------------- 112.6/381.6 kB 192.8 kB/s eta 0:00:02\n",
      "   ----------- -------------------------- 112.6/381.6 kB 192.8 kB/s eta 0:00:02\n",
      "   ----------- -------------------------- 112.6/381.6 kB 192.8 kB/s eta 0:00:02\n",
      "   ------------ ------------------------- 122.9/381.6 kB 156.9 kB/s eta 0:00:02\n",
      "   ------------ ------------------------- 122.9/381.6 kB 156.9 kB/s eta 0:00:02\n",
      "   -------------- ----------------------- 143.4/381.6 kB 163.9 kB/s eta 0:00:02\n",
      "   -------------- ----------------------- 143.4/381.6 kB 163.9 kB/s eta 0:00:02\n",
      "   --------------- ---------------------- 153.6/381.6 kB 158.2 kB/s eta 0:00:02\n",
      "   --------------- ---------------------- 153.6/381.6 kB 158.2 kB/s eta 0:00:02\n",
      "   ----------------- -------------------- 174.1/381.6 kB 163.8 kB/s eta 0:00:02\n",
      "   ----------------- -------------------- 174.1/381.6 kB 163.8 kB/s eta 0:00:02\n",
      "   ----------------- -------------------- 174.1/381.6 kB 163.8 kB/s eta 0:00:02\n",
      "   ----------------- -------------------- 174.1/381.6 kB 163.8 kB/s eta 0:00:02\n",
      "   ------------------- ------------------ 194.6/381.6 kB 157.4 kB/s eta 0:00:02\n",
      "   ------------------- ------------------ 194.6/381.6 kB 157.4 kB/s eta 0:00:02\n",
      "   -------------------- ----------------- 204.8/381.6 kB 151.9 kB/s eta 0:00:02\n",
      "   -------------------- ----------------- 204.8/381.6 kB 151.9 kB/s eta 0:00:02\n",
      "   ---------------------- --------------- 225.3/381.6 kB 158.2 kB/s eta 0:00:01\n",
      "   ---------------------- --------------- 225.3/381.6 kB 158.2 kB/s eta 0:00:01\n",
      "   ---------------------- --------------- 225.3/381.6 kB 158.2 kB/s eta 0:00:01\n",
      "   ---------------------- --------------- 225.3/381.6 kB 158.2 kB/s eta 0:00:01\n",
      "   ---------------------- --------------- 225.3/381.6 kB 158.2 kB/s eta 0:00:01\n",
      "   ---------------------- --------------- 225.3/381.6 kB 158.2 kB/s eta 0:00:01\n",
      "   ---------------------- --------------- 225.3/381.6 kB 158.2 kB/s eta 0:00:01\n",
      "   ---------------------- --------------- 225.3/381.6 kB 158.2 kB/s eta 0:00:01\n",
      "   ---------------------- --------------- 225.3/381.6 kB 158.2 kB/s eta 0:00:01\n",
      "   ---------------------- --------------- 225.3/381.6 kB 158.2 kB/s eta 0:00:01\n",
      "   ---------------------- --------------- 225.3/381.6 kB 158.2 kB/s eta 0:00:01\n",
      "   ---------------------------- --------- 286.7/381.6 kB 146.3 kB/s eta 0:00:01\n",
      "   ---------------------------- --------- 286.7/381.6 kB 146.3 kB/s eta 0:00:01\n",
      "   ---------------------------- --------- 286.7/381.6 kB 146.3 kB/s eta 0:00:01\n",
      "   ---------------------------- --------- 286.7/381.6 kB 146.3 kB/s eta 0:00:01\n",
      "   ---------------------------- --------- 286.7/381.6 kB 146.3 kB/s eta 0:00:01\n",
      "   ---------------------------- --------- 286.7/381.6 kB 146.3 kB/s eta 0:00:01\n",
      "   ---------------------------- --------- 286.7/381.6 kB 146.3 kB/s eta 0:00:01\n",
      "   ---------------------------- --------- 286.7/381.6 kB 146.3 kB/s eta 0:00:01\n",
      "   ---------------------------- --------- 286.7/381.6 kB 146.3 kB/s eta 0:00:01\n",
      "   ---------------------------- --------- 286.7/381.6 kB 146.3 kB/s eta 0:00:01\n",
      "   ---------------------------- --------- 286.7/381.6 kB 146.3 kB/s eta 0:00:01\n",
      "   ---------------------------- --------- 286.7/381.6 kB 146.3 kB/s eta 0:00:01\n",
      "   ---------------------------- --------- 286.7/381.6 kB 146.3 kB/s eta 0:00:01\n",
      "   ---------------------------- --------- 286.7/381.6 kB 146.3 kB/s eta 0:00:01\n",
      "   ------------------------------ ------- 307.2/381.6 kB 116.6 kB/s eta 0:00:01\n",
      "   ------------------------------ ------- 307.2/381.6 kB 116.6 kB/s eta 0:00:01\n",
      "   ------------------------------ ------- 307.2/381.6 kB 116.6 kB/s eta 0:00:01\n",
      "   ------------------------------- ------ 317.4/381.6 kB 115.0 kB/s eta 0:00:01\n",
      "   ------------------------------- ------ 317.4/381.6 kB 115.0 kB/s eta 0:00:01\n",
      "   ------------------------------- ------ 317.4/381.6 kB 115.0 kB/s eta 0:00:01\n",
      "   ------------------------------- ------ 317.4/381.6 kB 115.0 kB/s eta 0:00:01\n",
      "   ------------------------------- ------ 317.4/381.6 kB 115.0 kB/s eta 0:00:01\n",
      "   ------------------------------- ------ 317.4/381.6 kB 115.0 kB/s eta 0:00:01\n",
      "   --------------------------------- ---- 337.9/381.6 kB 110.4 kB/s eta 0:00:01\n",
      "   --------------------------------- ---- 337.9/381.6 kB 110.4 kB/s eta 0:00:01\n",
      "   --------------------------------- ---- 337.9/381.6 kB 110.4 kB/s eta 0:00:01\n",
      "   --------------------------------- ---- 337.9/381.6 kB 110.4 kB/s eta 0:00:01\n",
      "   ----------------------------------- -- 358.4/381.6 kB 112.0 kB/s eta 0:00:01\n",
      "   ----------------------------------- -- 358.4/381.6 kB 112.0 kB/s eta 0:00:01\n",
      "   ------------------------------------ - 368.6/381.6 kB 111.4 kB/s eta 0:00:01\n",
      "   -------------------------------------  378.9/381.6 kB 111.8 kB/s eta 0:00:01\n",
      "   -------------------------------------- 381.6/381.6 kB 112.1 kB/s eta 0:00:00\n",
      "Downloading pydantic_core-2.14.3-cp312-none-win_amd64.whl (1.9 MB)\n",
      "   ---------------------------------------- 0.0/1.9 MB ? eta -:--:--\n",
      "   ---------------------------------------- 0.0/1.9 MB ? eta -:--:--\n",
      "   ---------------------------------------- 0.0/1.9 MB ? eta -:--:--\n",
      "   ---------------------------------------- 0.0/1.9 MB ? eta -:--:--\n",
      "    --------------------------------------- 0.0/1.9 MB 325.1 kB/s eta 0:00:06\n",
      "    --------------------------------------- 0.0/1.9 MB 325.1 kB/s eta 0:00:06\n",
      "    --------------------------------------- 0.0/1.9 MB 325.1 kB/s eta 0:00:06\n",
      "    --------------------------------------- 0.0/1.9 MB 325.1 kB/s eta 0:00:06\n",
      "    --------------------------------------- 0.0/1.9 MB 130.7 kB/s eta 0:00:14\n",
      "    --------------------------------------- 0.0/1.9 MB 130.7 kB/s eta 0:00:14\n",
      "    --------------------------------------- 0.0/1.9 MB 130.7 kB/s eta 0:00:14\n",
      "    --------------------------------------- 0.0/1.9 MB 130.7 kB/s eta 0:00:14\n",
      "    --------------------------------------- 0.0/1.9 MB 130.7 kB/s eta 0:00:14\n",
      "   - -------------------------------------- 0.1/1.9 MB 116.9 kB/s eta 0:00:16\n",
      "   - -------------------------------------- 0.1/1.9 MB 116.9 kB/s eta 0:00:16\n",
      "   - -------------------------------------- 0.1/1.9 MB 116.9 kB/s eta 0:00:16\n",
      "   - -------------------------------------- 0.1/1.9 MB 109.1 kB/s eta 0:00:17\n",
      "   - -------------------------------------- 0.1/1.9 MB 109.1 kB/s eta 0:00:17\n",
      "   - -------------------------------------- 0.1/1.9 MB 109.1 kB/s eta 0:00:17\n",
      "   - -------------------------------------- 0.1/1.9 MB 119.1 kB/s eta 0:00:15\n",
      "   - -------------------------------------- 0.1/1.9 MB 119.1 kB/s eta 0:00:15\n",
      "   -- ------------------------------------- 0.1/1.9 MB 128.5 kB/s eta 0:00:14\n",
      "   -- ------------------------------------- 0.1/1.9 MB 128.5 kB/s eta 0:00:14\n",
      "   -- ------------------------------------- 0.1/1.9 MB 128.5 kB/s eta 0:00:14\n",
      "   -- ------------------------------------- 0.1/1.9 MB 128.5 kB/s eta 0:00:14\n",
      "   -- ------------------------------------- 0.1/1.9 MB 128.5 kB/s eta 0:00:14\n",
      "   -- ------------------------------------- 0.1/1.9 MB 128.5 kB/s eta 0:00:14\n",
      "   -- ------------------------------------- 0.1/1.9 MB 128.5 kB/s eta 0:00:14\n",
      "   -- ------------------------------------- 0.1/1.9 MB 128.5 kB/s eta 0:00:14\n",
      "   -- ------------------------------------- 0.1/1.9 MB 128.5 kB/s eta 0:00:14\n",
      "   -- ------------------------------------- 0.1/1.9 MB 128.5 kB/s eta 0:00:14\n",
      "   -- ------------------------------------- 0.1/1.9 MB 128.5 kB/s eta 0:00:14\n",
      "   -- ------------------------------------- 0.1/1.9 MB 128.5 kB/s eta 0:00:14\n",
      "   -- ------------------------------------- 0.1/1.9 MB 128.5 kB/s eta 0:00:14\n",
      "   --- ------------------------------------ 0.2/1.9 MB 116.5 kB/s eta 0:00:15\n",
      "   --- ------------------------------------ 0.2/1.9 MB 116.5 kB/s eta 0:00:15\n",
      "   --- ------------------------------------ 0.2/1.9 MB 116.5 kB/s eta 0:00:15\n",
      "   --- ------------------------------------ 0.2/1.9 MB 116.5 kB/s eta 0:00:15\n",
      "   --- ------------------------------------ 0.2/1.9 MB 116.5 kB/s eta 0:00:15\n",
      "   --- ------------------------------------ 0.2/1.9 MB 116.5 kB/s eta 0:00:15\n",
      "   --- ------------------------------------ 0.2/1.9 MB 116.5 kB/s eta 0:00:15\n",
      "   --- ------------------------------------ 0.2/1.9 MB 116.5 kB/s eta 0:00:15\n",
      "   --- ------------------------------------ 0.2/1.9 MB 116.5 kB/s eta 0:00:15\n",
      "   --- ------------------------------------ 0.2/1.9 MB 116.5 kB/s eta 0:00:15\n",
      "   --- ------------------------------------ 0.2/1.9 MB 116.5 kB/s eta 0:00:15\n",
      "   --- ------------------------------------ 0.2/1.9 MB 116.5 kB/s eta 0:00:15\n",
      "   --- ------------------------------------ 0.2/1.9 MB 116.5 kB/s eta 0:00:15\n",
      "   --- ------------------------------------ 0.2/1.9 MB 116.5 kB/s eta 0:00:15\n",
      "   ---- ----------------------------------- 0.2/1.9 MB 90.8 kB/s eta 0:00:19\n",
      "   ---- ----------------------------------- 0.2/1.9 MB 90.8 kB/s eta 0:00:19\n",
      "   ---- ----------------------------------- 0.2/1.9 MB 90.8 kB/s eta 0:00:19\n",
      "   ---- ----------------------------------- 0.2/1.9 MB 90.8 kB/s eta 0:00:19\n",
      "   ---- ----------------------------------- 0.2/1.9 MB 87.7 kB/s eta 0:00:19\n",
      "   ---- ----------------------------------- 0.2/1.9 MB 87.7 kB/s eta 0:00:19\n",
      "   ---- ----------------------------------- 0.2/1.9 MB 87.7 kB/s eta 0:00:19\n",
      "   ---- ----------------------------------- 0.2/1.9 MB 87.7 kB/s eta 0:00:19\n",
      "   ---- ----------------------------------- 0.2/1.9 MB 89.9 kB/s eta 0:00:19\n",
      "   ---- ----------------------------------- 0.2/1.9 MB 89.9 kB/s eta 0:00:19\n",
      "   ---- ----------------------------------- 0.2/1.9 MB 89.9 kB/s eta 0:00:19\n",
      "   ---- ----------------------------------- 0.2/1.9 MB 89.9 kB/s eta 0:00:19\n",
      "   ---- ----------------------------------- 0.2/1.9 MB 89.9 kB/s eta 0:00:19\n",
      "   ----- ---------------------------------- 0.2/1.9 MB 85.3 kB/s eta 0:00:20\n",
      "   ----- ---------------------------------- 0.2/1.9 MB 85.3 kB/s eta 0:00:20\n",
      "   ----- ---------------------------------- 0.2/1.9 MB 85.3 kB/s eta 0:00:20\n",
      "   ----- ---------------------------------- 0.2/1.9 MB 85.3 kB/s eta 0:00:20\n",
      "   ----- ---------------------------------- 0.3/1.9 MB 87.9 kB/s eta 0:00:19\n",
      "   ----- ---------------------------------- 0.3/1.9 MB 87.9 kB/s eta 0:00:19\n",
      "   ----- ---------------------------------- 0.3/1.9 MB 87.9 kB/s eta 0:00:19\n",
      "   ----- ---------------------------------- 0.3/1.9 MB 87.9 kB/s eta 0:00:19\n",
      "   ----- ---------------------------------- 0.3/1.9 MB 87.9 kB/s eta 0:00:19\n",
      "   ----- ---------------------------------- 0.3/1.9 MB 86.9 kB/s eta 0:00:19\n",
      "   ----- ---------------------------------- 0.3/1.9 MB 86.9 kB/s eta 0:00:19\n",
      "   ----- ---------------------------------- 0.3/1.9 MB 86.9 kB/s eta 0:00:19\n",
      "   ----- ---------------------------------- 0.3/1.9 MB 86.9 kB/s eta 0:00:19\n",
      "   ----- ---------------------------------- 0.3/1.9 MB 86.9 kB/s eta 0:00:19\n",
      "   ----- ---------------------------------- 0.3/1.9 MB 86.9 kB/s eta 0:00:19\n",
      "   ----- ---------------------------------- 0.3/1.9 MB 86.9 kB/s eta 0:00:19\n",
      "   ----- ---------------------------------- 0.3/1.9 MB 86.9 kB/s eta 0:00:19\n",
      "   ----- ---------------------------------- 0.3/1.9 MB 86.9 kB/s eta 0:00:19\n",
      "   ----- ---------------------------------- 0.3/1.9 MB 86.9 kB/s eta 0:00:19\n",
      "   ----- ---------------------------------- 0.3/1.9 MB 86.9 kB/s eta 0:00:19\n",
      "   ----- ---------------------------------- 0.3/1.9 MB 86.9 kB/s eta 0:00:19\n",
      "   ----- ---------------------------------- 0.3/1.9 MB 86.9 kB/s eta 0:00:19\n",
      "   ----- ---------------------------------- 0.3/1.9 MB 86.9 kB/s eta 0:00:19\n",
      "   ----- ---------------------------------- 0.3/1.9 MB 86.9 kB/s eta 0:00:19\n",
      "   ----- ---------------------------------- 0.3/1.9 MB 86.9 kB/s eta 0:00:19\n",
      "   ----- ---------------------------------- 0.3/1.9 MB 86.9 kB/s eta 0:00:19\n",
      "   ----- ---------------------------------- 0.3/1.9 MB 86.9 kB/s eta 0:00:19\n",
      "   ----- ---------------------------------- 0.3/1.9 MB 86.9 kB/s eta 0:00:19\n",
      "   ----- ---------------------------------- 0.3/1.9 MB 86.9 kB/s eta 0:00:19\n",
      "   ----- ---------------------------------- 0.3/1.9 MB 86.9 kB/s eta 0:00:19\n",
      "   ------ --------------------------------- 0.3/1.9 MB 76.5 kB/s eta 0:00:21\n",
      "   ------- -------------------------------- 0.3/1.9 MB 80.0 kB/s eta 0:00:20\n",
      "   ------- -------------------------------- 0.3/1.9 MB 80.0 kB/s eta 0:00:20\n",
      "   ------- -------------------------------- 0.3/1.9 MB 80.0 kB/s eta 0:00:20\n",
      "   ------- -------------------------------- 0.3/1.9 MB 80.0 kB/s eta 0:00:20\n",
      "   ------- -------------------------------- 0.3/1.9 MB 80.0 kB/s eta 0:00:20\n",
      "   ------- -------------------------------- 0.3/1.9 MB 80.0 kB/s eta 0:00:20\n",
      "   ------- -------------------------------- 0.3/1.9 MB 80.0 kB/s eta 0:00:20\n",
      "   ------- -------------------------------- 0.3/1.9 MB 80.0 kB/s eta 0:00:20\n",
      "   ------- -------------------------------- 0.3/1.9 MB 80.0 kB/s eta 0:00:20\n",
      "   ------- -------------------------------- 0.3/1.9 MB 80.0 kB/s eta 0:00:20\n",
      "   ------- -------------------------------- 0.3/1.9 MB 80.0 kB/s eta 0:00:20\n",
      "   ------- -------------------------------- 0.3/1.9 MB 80.0 kB/s eta 0:00:20\n",
      "   ------- -------------------------------- 0.4/1.9 MB 74.5 kB/s eta 0:00:21\n",
      "   ------- -------------------------------- 0.4/1.9 MB 74.5 kB/s eta 0:00:21\n",
      "   ------- -------------------------------- 0.4/1.9 MB 74.5 kB/s eta 0:00:21\n",
      "   ------- -------------------------------- 0.4/1.9 MB 74.5 kB/s eta 0:00:21\n",
      "   ------- -------------------------------- 0.4/1.9 MB 74.5 kB/s eta 0:00:21\n",
      "   ------- -------------------------------- 0.4/1.9 MB 73.1 kB/s eta 0:00:21\n",
      "   ------- -------------------------------- 0.4/1.9 MB 73.1 kB/s eta 0:00:21\n",
      "   ------- -------------------------------- 0.4/1.9 MB 73.1 kB/s eta 0:00:21\n",
      "   ------- -------------------------------- 0.4/1.9 MB 73.1 kB/s eta 0:00:21\n",
      "   -------- ------------------------------- 0.4/1.9 MB 73.9 kB/s eta 0:00:20\n",
      "   -------- ------------------------------- 0.4/1.9 MB 73.9 kB/s eta 0:00:20\n",
      "   -------- ------------------------------- 0.4/1.9 MB 73.9 kB/s eta 0:00:20\n",
      "   -------- ------------------------------- 0.4/1.9 MB 73.9 kB/s eta 0:00:20\n",
      "   -------- ------------------------------- 0.4/1.9 MB 73.5 kB/s eta 0:00:20\n",
      "   -------- ------------------------------- 0.4/1.9 MB 73.5 kB/s eta 0:00:20\n",
      "   -------- ------------------------------- 0.4/1.9 MB 73.5 kB/s eta 0:00:20\n",
      "   -------- ------------------------------- 0.4/1.9 MB 73.5 kB/s eta 0:00:20\n",
      "   -------- ------------------------------- 0.4/1.9 MB 72.4 kB/s eta 0:00:21\n",
      "   -------- ------------------------------- 0.4/1.9 MB 72.4 kB/s eta 0:00:21\n",
      "   -------- ------------------------------- 0.4/1.9 MB 72.4 kB/s eta 0:00:21\n",
      "   -------- ------------------------------- 0.4/1.9 MB 72.4 kB/s eta 0:00:21\n",
      "   -------- ------------------------------- 0.4/1.9 MB 72.4 kB/s eta 0:00:21\n",
      "   --------- ------------------------------ 0.4/1.9 MB 72.8 kB/s eta 0:00:20\n",
      "   --------- ------------------------------ 0.4/1.9 MB 72.8 kB/s eta 0:00:20\n",
      "   --------- ------------------------------ 0.4/1.9 MB 72.8 kB/s eta 0:00:20\n",
      "   --------- ------------------------------ 0.4/1.9 MB 72.8 kB/s eta 0:00:20\n",
      "   --------- ------------------------------ 0.5/1.9 MB 74.2 kB/s eta 0:00:20\n",
      "   --------- ------------------------------ 0.5/1.9 MB 74.2 kB/s eta 0:00:20\n",
      "   --------- ------------------------------ 0.5/1.9 MB 74.2 kB/s eta 0:00:20\n",
      "   --------- ------------------------------ 0.5/1.9 MB 73.7 kB/s eta 0:00:20\n",
      "   --------- ------------------------------ 0.5/1.9 MB 73.7 kB/s eta 0:00:20\n",
      "   ---------- ----------------------------- 0.5/1.9 MB 75.9 kB/s eta 0:00:19\n",
      "   ---------- ----------------------------- 0.5/1.9 MB 77.2 kB/s eta 0:00:18\n",
      "   ---------- ----------------------------- 0.5/1.9 MB 80.1 kB/s eta 0:00:17\n",
      "   ---------- ----------------------------- 0.5/1.9 MB 80.1 kB/s eta 0:00:17\n",
      "   ----------- ---------------------------- 0.5/1.9 MB 82.1 kB/s eta 0:00:17\n",
      "   ------------ --------------------------- 0.6/1.9 MB 85.9 kB/s eta 0:00:16\n",
      "   ------------- -------------------------- 0.6/1.9 MB 92.9 kB/s eta 0:00:14\n",
      "   ------------- -------------------------- 0.6/1.9 MB 92.9 kB/s eta 0:00:14\n",
      "   -------------- ------------------------- 0.7/1.9 MB 101.2 kB/s eta 0:00:12\n",
      "   -------------- ------------------------- 0.7/1.9 MB 101.2 kB/s eta 0:00:12\n",
      "   -------------- ------------------------- 0.7/1.9 MB 102.8 kB/s eta 0:00:12\n",
      "   --------------- ------------------------ 0.7/1.9 MB 103.4 kB/s eta 0:00:12\n",
      "   --------------- ------------------------ 0.7/1.9 MB 103.4 kB/s eta 0:00:12\n",
      "   --------------- ------------------------ 0.7/1.9 MB 105.5 kB/s eta 0:00:11\n",
      "   --------------- ------------------------ 0.7/1.9 MB 105.8 kB/s eta 0:00:11\n",
      "   --------------- ------------------------ 0.7/1.9 MB 105.8 kB/s eta 0:00:11\n",
      "   ---------------- ----------------------- 0.8/1.9 MB 107.7 kB/s eta 0:00:11\n",
      "   ---------------- ----------------------- 0.8/1.9 MB 107.7 kB/s eta 0:00:11\n",
      "   ---------------- ----------------------- 0.8/1.9 MB 110.4 kB/s eta 0:00:10\n",
      "   ---------------- ----------------------- 0.8/1.9 MB 110.4 kB/s eta 0:00:10\n",
      "   ---------------- ----------------------- 0.8/1.9 MB 110.4 kB/s eta 0:00:10\n",
      "   ---------------- ----------------------- 0.8/1.9 MB 110.4 kB/s eta 0:00:10\n",
      "   ----------------- ---------------------- 0.8/1.9 MB 111.1 kB/s eta 0:00:10\n",
      "   ----------------- ---------------------- 0.8/1.9 MB 111.1 kB/s eta 0:00:10\n",
      "   ----------------- ---------------------- 0.8/1.9 MB 111.1 kB/s eta 0:00:10\n",
      "   ------------------ --------------------- 0.8/1.9 MB 112.0 kB/s eta 0:00:10\n",
      "   ------------------ --------------------- 0.8/1.9 MB 112.0 kB/s eta 0:00:10\n",
      "   ------------------ --------------------- 0.9/1.9 MB 113.1 kB/s eta 0:00:09\n",
      "   ------------------ --------------------- 0.9/1.9 MB 113.1 kB/s eta 0:00:09\n",
      "   ------------------- -------------------- 0.9/1.9 MB 116.2 kB/s eta 0:00:09\n",
      "   ------------------- -------------------- 0.9/1.9 MB 116.2 kB/s eta 0:00:09\n",
      "   ------------------- -------------------- 0.9/1.9 MB 115.9 kB/s eta 0:00:09\n",
      "   ------------------- -------------------- 0.9/1.9 MB 118.1 kB/s eta 0:00:08\n",
      "   -------------------- ------------------- 0.9/1.9 MB 119.8 kB/s eta 0:00:08\n",
      "   -------------------- ------------------- 0.9/1.9 MB 119.8 kB/s eta 0:00:08\n",
      "   -------------------- ------------------- 1.0/1.9 MB 119.4 kB/s eta 0:00:08\n",
      "   -------------------- ------------------- 1.0/1.9 MB 119.4 kB/s eta 0:00:08\n",
      "   --------------------- ------------------ 1.0/1.9 MB 121.8 kB/s eta 0:00:08\n",
      "   --------------------- ------------------ 1.0/1.9 MB 122.2 kB/s eta 0:00:08\n",
      "   --------------------- ------------------ 1.0/1.9 MB 124.0 kB/s eta 0:00:07\n",
      "   --------------------- ------------------ 1.0/1.9 MB 124.0 kB/s eta 0:00:07\n",
      "   --------------------- ------------------ 1.0/1.9 MB 124.0 kB/s eta 0:00:07\n",
      "   ---------------------- ----------------- 1.0/1.9 MB 125.1 kB/s eta 0:00:07\n",
      "   ---------------------- ----------------- 1.1/1.9 MB 127.6 kB/s eta 0:00:07\n",
      "   ----------------------- ---------------- 1.1/1.9 MB 128.1 kB/s eta 0:00:07\n",
      "   ----------------------- ---------------- 1.1/1.9 MB 128.1 kB/s eta 0:00:07\n",
      "   ----------------------- ---------------- 1.1/1.9 MB 129.4 kB/s eta 0:00:06\n",
      "   ----------------------- ---------------- 1.1/1.9 MB 129.4 kB/s eta 0:00:06\n",
      "   ----------------------- ---------------- 1.1/1.9 MB 130.6 kB/s eta 0:00:06\n",
      "   ------------------------ --------------- 1.1/1.9 MB 130.6 kB/s eta 0:00:06\n",
      "   ------------------------ --------------- 1.1/1.9 MB 132.0 kB/s eta 0:00:06\n",
      "   ------------------------ --------------- 1.2/1.9 MB 132.5 kB/s eta 0:00:06\n",
      "   ------------------------ --------------- 1.2/1.9 MB 132.5 kB/s eta 0:00:06\n",
      "   ------------------------- -------------- 1.2/1.9 MB 133.9 kB/s eta 0:00:06\n",
      "   ------------------------- -------------- 1.2/1.9 MB 135.3 kB/s eta 0:00:05\n",
      "   ------------------------- -------------- 1.2/1.9 MB 135.5 kB/s eta 0:00:05\n",
      "   ------------------------- -------------- 1.2/1.9 MB 135.5 kB/s eta 0:00:05\n",
      "   -------------------------- ------------- 1.2/1.9 MB 136.3 kB/s eta 0:00:05\n",
      "   -------------------------- ------------- 1.2/1.9 MB 136.5 kB/s eta 0:00:05\n",
      "   --------------------------- ------------ 1.3/1.9 MB 138.1 kB/s eta 0:00:05\n",
      "   --------------------------- ------------ 1.3/1.9 MB 139.4 kB/s eta 0:00:05\n",
      "   --------------------------- ------------ 1.3/1.9 MB 139.8 kB/s eta 0:00:05\n",
      "   ---------------------------- ----------- 1.3/1.9 MB 141.3 kB/s eta 0:00:04\n",
      "   ---------------------------- ----------- 1.3/1.9 MB 141.9 kB/s eta 0:00:04\n",
      "   ---------------------------- ----------- 1.3/1.9 MB 143.4 kB/s eta 0:00:04\n",
      "   ----------------------------- ---------- 1.4/1.9 MB 144.7 kB/s eta 0:00:04\n",
      "   ----------------------------- ---------- 1.4/1.9 MB 145.0 kB/s eta 0:00:04\n",
      "   ----------------------------- ---------- 1.4/1.9 MB 146.7 kB/s eta 0:00:04\n",
      "   ------------------------------ --------- 1.4/1.9 MB 146.8 kB/s eta 0:00:04\n",
      "   ------------------------------ --------- 1.4/1.9 MB 148.3 kB/s eta 0:00:03\n",
      "   ------------------------------ --------- 1.4/1.9 MB 149.7 kB/s eta 0:00:03\n",
      "   ------------------------------ --------- 1.4/1.9 MB 149.7 kB/s eta 0:00:03\n",
      "   ------------------------------- -------- 1.5/1.9 MB 149.5 kB/s eta 0:00:03\n",
      "   ------------------------------- -------- 1.5/1.9 MB 151.1 kB/s eta 0:00:03\n",
      "   ------------------------------- -------- 1.5/1.9 MB 151.2 kB/s eta 0:00:03\n",
      "   -------------------------------- ------- 1.5/1.9 MB 151.6 kB/s eta 0:00:03\n",
      "   -------------------------------- ------- 1.5/1.9 MB 152.9 kB/s eta 0:00:03\n",
      "   -------------------------------- ------- 1.5/1.9 MB 154.3 kB/s eta 0:00:03\n",
      "   --------------------------------- ------ 1.5/1.9 MB 154.6 kB/s eta 0:00:03\n",
      "   --------------------------------- ------ 1.6/1.9 MB 156.1 kB/s eta 0:00:02\n",
      "   --------------------------------- ------ 1.6/1.9 MB 156.7 kB/s eta 0:00:02\n",
      "   ---------------------------------- ----- 1.6/1.9 MB 157.7 kB/s eta 0:00:02\n",
      "   ---------------------------------- ----- 1.6/1.9 MB 159.8 kB/s eta 0:00:02\n",
      "   ---------------------------------- ----- 1.6/1.9 MB 159.8 kB/s eta 0:00:02\n",
      "   ----------------------------------- ---- 1.7/1.9 MB 161.1 kB/s eta 0:00:02\n",
      "   ------------------------------------ --- 1.7/1.9 MB 162.6 kB/s eta 0:00:02\n",
      "   ------------------------------------ --- 1.7/1.9 MB 163.8 kB/s eta 0:00:02\n",
      "   ------------------------------------ --- 1.7/1.9 MB 164.1 kB/s eta 0:00:01\n",
      "   ------------------------------------- -- 1.7/1.9 MB 165.6 kB/s eta 0:00:01\n",
      "   ------------------------------------- -- 1.7/1.9 MB 165.6 kB/s eta 0:00:01\n",
      "   ------------------------------------- -- 1.8/1.9 MB 167.0 kB/s eta 0:00:01\n",
      "   -------------------------------------- - 1.8/1.9 MB 168.0 kB/s eta 0:00:01\n",
      "   -------------------------------------- - 1.8/1.9 MB 168.0 kB/s eta 0:00:01\n",
      "   -------------------------------------- - 1.8/1.9 MB 167.7 kB/s eta 0:00:01\n",
      "   -------------------------------------- - 1.8/1.9 MB 167.7 kB/s eta 0:00:01\n",
      "   -------------------------------------- - 1.8/1.9 MB 167.7 kB/s eta 0:00:01\n",
      "   ---------------------------------------- 1.9/1.9 MB 171.4 kB/s eta 0:00:00\n",
      "Downloading tqdm-4.66.1-py3-none-any.whl (78 kB)\n",
      "   ---------------------------------------- 0.0/78.3 kB ? eta -:--:--\n",
      "   ---------------------------------------- 0.0/78.3 kB ? eta -:--:--\n",
      "   ----- ---------------------------------- 10.2/78.3 kB ? eta -:--:--\n",
      "   --------------- ------------------------ 30.7/78.3 kB 435.7 kB/s eta 0:00:01\n",
      "   -------------------- ------------------- 41.0/78.3 kB 281.8 kB/s eta 0:00:01\n",
      "   ------------------------------- -------- 61.4/78.3 kB 328.2 kB/s eta 0:00:01\n",
      "   ------------------------------- -------- 61.4/78.3 kB 328.2 kB/s eta 0:00:01\n",
      "   ------------------------------- -------- 61.4/78.3 kB 328.2 kB/s eta 0:00:01\n",
      "   ---------------------------------------- 78.3/78.3 kB 218.0 kB/s eta 0:00:00\n",
      "Downloading typing_extensions-4.8.0-py3-none-any.whl (31 kB)\n",
      "Downloading annotated_types-0.6.0-py3-none-any.whl (12 kB)\n",
      "Downloading httpcore-1.0.2-py3-none-any.whl (76 kB)\n",
      "   ---------------------------------------- 0.0/76.9 kB ? eta -:--:--\n",
      "   ---------------------------------------- 0.0/76.9 kB ? eta -:--:--\n",
      "   ----- ---------------------------------- 10.2/76.9 kB ? eta -:--:--\n",
      "   --------------- ------------------------ 30.7/76.9 kB 325.1 kB/s eta 0:00:01\n",
      "   --------------------- ------------------ 41.0/76.9 kB 245.8 kB/s eta 0:00:01\n",
      "   --------------------- ------------------ 41.0/76.9 kB 245.8 kB/s eta 0:00:01\n",
      "   ------------------------------- -------- 61.4/76.9 kB 252.2 kB/s eta 0:00:01\n",
      "   ---------------------------------------- 76.9/76.9 kB 236.5 kB/s eta 0:00:00\n",
      "Installing collected packages: typing-extensions, tqdm, sniffio, python-dotenv, h11, distro, annotated-types, pydantic-core, httpcore, anyio, pydantic, httpx, openai\n",
      "Successfully installed annotated-types-0.6.0 anyio-3.7.1 distro-1.8.0 h11-0.14.0 httpcore-1.0.2 httpx-0.25.1 openai-1.3.1 pydantic-2.5.1 pydantic-core-2.14.3 python-dotenv-1.0.0 sniffio-1.3.0 tqdm-4.66.1 typing-extensions-4.8.0\n",
      "Note: you may need to restart the kernel to use updated packages.\n"
     ]
    },
    {
     "name": "stderr",
     "output_type": "stream",
     "text": [
      "  WARNING: The script tqdm.exe is installed in 'c:\\Users\\Huzaifa Enterprise\\AppData\\Local\\Programs\\Python\\Python312\\Scripts' which is not on PATH.\n",
      "  Consider adding this directory to PATH or, if you prefer to suppress this warning, use --no-warn-script-location.\n",
      "  WARNING: The script dotenv.exe is installed in 'c:\\Users\\Huzaifa Enterprise\\AppData\\Local\\Programs\\Python\\Python312\\Scripts' which is not on PATH.\n",
      "  Consider adding this directory to PATH or, if you prefer to suppress this warning, use --no-warn-script-location.\n",
      "  WARNING: The script distro.exe is installed in 'c:\\Users\\Huzaifa Enterprise\\AppData\\Local\\Programs\\Python\\Python312\\Scripts' which is not on PATH.\n",
      "  Consider adding this directory to PATH or, if you prefer to suppress this warning, use --no-warn-script-location.\n",
      "  WARNING: The script httpx.exe is installed in 'c:\\Users\\Huzaifa Enterprise\\AppData\\Local\\Programs\\Python\\Python312\\Scripts' which is not on PATH.\n",
      "  Consider adding this directory to PATH or, if you prefer to suppress this warning, use --no-warn-script-location.\n",
      "  WARNING: The script openai.exe is installed in 'c:\\Users\\Huzaifa Enterprise\\AppData\\Local\\Programs\\Python\\Python312\\Scripts' which is not on PATH.\n",
      "  Consider adding this directory to PATH or, if you prefer to suppress this warning, use --no-warn-script-location.\n",
      "\n",
      "[notice] A new release of pip is available: 23.2.1 -> 23.3.1\n",
      "[notice] To update, run: python.exe -m pip install --upgrade pip\n"
     ]
    }
   ],
   "source": [
    "%pip install -r requirement.txt"
   ]
  },
  {
   "cell_type": "code",
   "execution_count": 2,
   "metadata": {},
   "outputs": [
    {
     "name": "stdout",
     "output_type": "stream",
     "text": [
      "Pakistan\n"
     ]
    }
   ],
   "source": [
    "print(\"Pakistan\")"
   ]
  },
  {
   "cell_type": "code",
   "execution_count": 6,
   "metadata": {},
   "outputs": [],
   "source": [
    "from openai import OpenAI\n",
    "from dotenv import load_dotenv, find_dotenv\n",
    "\n",
    "_ : bool = load_dotenv(find_dotenv()) # read local .env file\n",
    "\n",
    "client : OpenAI = OpenAI()"
   ]
  },
  {
   "cell_type": "code",
   "execution_count": 7,
   "metadata": {},
   "outputs": [
    {
     "ename": "RateLimitError",
     "evalue": "Error code: 429 - {'error': {'message': 'You exceeded your current quota, please check your plan and billing details.', 'type': 'insufficient_quota', 'param': None, 'code': 'insufficient_quota'}}",
     "output_type": "error",
     "traceback": [
      "\u001b[1;31m---------------------------------------------------------------------------\u001b[0m",
      "\u001b[1;31mRateLimitError\u001b[0m                            Traceback (most recent call last)",
      "\u001b[1;32me:\\Yasir\\PIAIC\\Python\\pyton.ipynb Cell 59\u001b[0m line \u001b[0;36m1\n\u001b[0;32m     <a href='vscode-notebook-cell:/e%3A/Yasir/PIAIC/Python/pyton.ipynb#Y112sZmlsZQ%3D%3D?line=12'>13</a>\u001b[0m \u001b[39m# print(response)\u001b[39;00m\n\u001b[0;32m     <a href='vscode-notebook-cell:/e%3A/Yasir/PIAIC/Python/pyton.ipynb#Y112sZmlsZQ%3D%3D?line=13'>14</a>\u001b[0m \u001b[39m#  print(response.choices[0].message.content)\u001b[39;00m\n\u001b[0;32m     <a href='vscode-notebook-cell:/e%3A/Yasir/PIAIC/Python/pyton.ipynb#Y112sZmlsZQ%3D%3D?line=14'>15</a>\u001b[0m  \u001b[39mreturn\u001b[39;00m response\u001b[39m.\u001b[39mchoices[\u001b[39m0\u001b[39m]\u001b[39m.\u001b[39mmessage\u001b[39m.\u001b[39mcontent\n\u001b[1;32m---> <a href='vscode-notebook-cell:/e%3A/Yasir/PIAIC/Python/pyton.ipynb#Y112sZmlsZQ%3D%3D?line=16'>17</a>\u001b[0m chat_completion(\u001b[39m\"\u001b[39;49m\u001b[39mwhat is 1+1?\u001b[39;49m\u001b[39m\"\u001b[39;49m)\n",
      "\u001b[1;32me:\\Yasir\\PIAIC\\Python\\pyton.ipynb Cell 59\u001b[0m line \u001b[0;36m4\n\u001b[0;32m      <a href='vscode-notebook-cell:/e%3A/Yasir/PIAIC/Python/pyton.ipynb#Y112sZmlsZQ%3D%3D?line=2'>3</a>\u001b[0m \u001b[39mdef\u001b[39;00m \u001b[39mchat_completion\u001b[39m(prompt : \u001b[39mstr\u001b[39m )\u001b[39m-\u001b[39m\u001b[39m>\u001b[39m \u001b[39mstr\u001b[39m:\n\u001b[1;32m----> <a href='vscode-notebook-cell:/e%3A/Yasir/PIAIC/Python/pyton.ipynb#Y112sZmlsZQ%3D%3D?line=3'>4</a>\u001b[0m  response : ChatCompletion \u001b[39m=\u001b[39m client\u001b[39m.\u001b[39;49mchat\u001b[39m.\u001b[39;49mcompletions\u001b[39m.\u001b[39;49mcreate(\n\u001b[0;32m      <a href='vscode-notebook-cell:/e%3A/Yasir/PIAIC/Python/pyton.ipynb#Y112sZmlsZQ%3D%3D?line=4'>5</a>\u001b[0m         messages\u001b[39m=\u001b[39;49m[\n\u001b[0;32m      <a href='vscode-notebook-cell:/e%3A/Yasir/PIAIC/Python/pyton.ipynb#Y112sZmlsZQ%3D%3D?line=5'>6</a>\u001b[0m             {\n\u001b[0;32m      <a href='vscode-notebook-cell:/e%3A/Yasir/PIAIC/Python/pyton.ipynb#Y112sZmlsZQ%3D%3D?line=6'>7</a>\u001b[0m                 \u001b[39m\"\u001b[39;49m\u001b[39mrole\u001b[39;49m\u001b[39m\"\u001b[39;49m: \u001b[39m\"\u001b[39;49m\u001b[39muser\u001b[39;49m\u001b[39m\"\u001b[39;49m,\n\u001b[0;32m      <a href='vscode-notebook-cell:/e%3A/Yasir/PIAIC/Python/pyton.ipynb#Y112sZmlsZQ%3D%3D?line=7'>8</a>\u001b[0m                 \u001b[39m\"\u001b[39;49m\u001b[39mcontent\u001b[39;49m\u001b[39m\"\u001b[39;49m: prompt,\n\u001b[0;32m      <a href='vscode-notebook-cell:/e%3A/Yasir/PIAIC/Python/pyton.ipynb#Y112sZmlsZQ%3D%3D?line=8'>9</a>\u001b[0m             }\n\u001b[0;32m     <a href='vscode-notebook-cell:/e%3A/Yasir/PIAIC/Python/pyton.ipynb#Y112sZmlsZQ%3D%3D?line=9'>10</a>\u001b[0m         ],\n\u001b[0;32m     <a href='vscode-notebook-cell:/e%3A/Yasir/PIAIC/Python/pyton.ipynb#Y112sZmlsZQ%3D%3D?line=10'>11</a>\u001b[0m         model\u001b[39m=\u001b[39;49m\u001b[39m\"\u001b[39;49m\u001b[39mgpt-3.5-turbo-1106\u001b[39;49m\u001b[39m\"\u001b[39;49m,\n\u001b[0;32m     <a href='vscode-notebook-cell:/e%3A/Yasir/PIAIC/Python/pyton.ipynb#Y112sZmlsZQ%3D%3D?line=11'>12</a>\u001b[0m     )\n\u001b[0;32m     <a href='vscode-notebook-cell:/e%3A/Yasir/PIAIC/Python/pyton.ipynb#Y112sZmlsZQ%3D%3D?line=12'>13</a>\u001b[0m \u001b[39m# print(response)\u001b[39;00m\n\u001b[0;32m     <a href='vscode-notebook-cell:/e%3A/Yasir/PIAIC/Python/pyton.ipynb#Y112sZmlsZQ%3D%3D?line=13'>14</a>\u001b[0m \u001b[39m#  print(response.choices[0].message.content)\u001b[39;00m\n\u001b[0;32m     <a href='vscode-notebook-cell:/e%3A/Yasir/PIAIC/Python/pyton.ipynb#Y112sZmlsZQ%3D%3D?line=14'>15</a>\u001b[0m  \u001b[39mreturn\u001b[39;00m response\u001b[39m.\u001b[39mchoices[\u001b[39m0\u001b[39m]\u001b[39m.\u001b[39mmessage\u001b[39m.\u001b[39mcontent\n",
      "File \u001b[1;32mc:\\Users\\Huzaifa Enterprise\\AppData\\Local\\Programs\\Python\\Python312\\Lib\\site-packages\\openai\\_utils\\_utils.py:299\u001b[0m, in \u001b[0;36mrequired_args.<locals>.inner.<locals>.wrapper\u001b[1;34m(*args, **kwargs)\u001b[0m\n\u001b[0;32m    297\u001b[0m             msg \u001b[39m=\u001b[39m \u001b[39mf\u001b[39m\u001b[39m\"\u001b[39m\u001b[39mMissing required argument: \u001b[39m\u001b[39m{\u001b[39;00mquote(missing[\u001b[39m0\u001b[39m])\u001b[39m}\u001b[39;00m\u001b[39m\"\u001b[39m\n\u001b[0;32m    298\u001b[0m     \u001b[39mraise\u001b[39;00m \u001b[39mTypeError\u001b[39;00m(msg)\n\u001b[1;32m--> 299\u001b[0m \u001b[39mreturn\u001b[39;00m func(\u001b[39m*\u001b[39;49margs, \u001b[39m*\u001b[39;49m\u001b[39m*\u001b[39;49mkwargs)\n",
      "File \u001b[1;32mc:\\Users\\Huzaifa Enterprise\\AppData\\Local\\Programs\\Python\\Python312\\Lib\\site-packages\\openai\\resources\\chat\\completions.py:598\u001b[0m, in \u001b[0;36mCompletions.create\u001b[1;34m(self, messages, model, frequency_penalty, function_call, functions, logit_bias, max_tokens, n, presence_penalty, response_format, seed, stop, stream, temperature, tool_choice, tools, top_p, user, extra_headers, extra_query, extra_body, timeout)\u001b[0m\n\u001b[0;32m    551\u001b[0m \u001b[39m@required_args\u001b[39m([\u001b[39m\"\u001b[39m\u001b[39mmessages\u001b[39m\u001b[39m\"\u001b[39m, \u001b[39m\"\u001b[39m\u001b[39mmodel\u001b[39m\u001b[39m\"\u001b[39m], [\u001b[39m\"\u001b[39m\u001b[39mmessages\u001b[39m\u001b[39m\"\u001b[39m, \u001b[39m\"\u001b[39m\u001b[39mmodel\u001b[39m\u001b[39m\"\u001b[39m, \u001b[39m\"\u001b[39m\u001b[39mstream\u001b[39m\u001b[39m\"\u001b[39m])\n\u001b[0;32m    552\u001b[0m \u001b[39mdef\u001b[39;00m \u001b[39mcreate\u001b[39m(\n\u001b[0;32m    553\u001b[0m     \u001b[39mself\u001b[39m,\n\u001b[1;32m   (...)\u001b[0m\n\u001b[0;32m    596\u001b[0m     timeout: \u001b[39mfloat\u001b[39m \u001b[39m|\u001b[39m httpx\u001b[39m.\u001b[39mTimeout \u001b[39m|\u001b[39m \u001b[39mNone\u001b[39;00m \u001b[39m|\u001b[39m NotGiven \u001b[39m=\u001b[39m NOT_GIVEN,\n\u001b[0;32m    597\u001b[0m ) \u001b[39m-\u001b[39m\u001b[39m>\u001b[39m ChatCompletion \u001b[39m|\u001b[39m Stream[ChatCompletionChunk]:\n\u001b[1;32m--> 598\u001b[0m     \u001b[39mreturn\u001b[39;00m \u001b[39mself\u001b[39;49m\u001b[39m.\u001b[39;49m_post(\n\u001b[0;32m    599\u001b[0m         \u001b[39m\"\u001b[39;49m\u001b[39m/chat/completions\u001b[39;49m\u001b[39m\"\u001b[39;49m,\n\u001b[0;32m    600\u001b[0m         body\u001b[39m=\u001b[39;49mmaybe_transform(\n\u001b[0;32m    601\u001b[0m             {\n\u001b[0;32m    602\u001b[0m                 \u001b[39m\"\u001b[39;49m\u001b[39mmessages\u001b[39;49m\u001b[39m\"\u001b[39;49m: messages,\n\u001b[0;32m    603\u001b[0m                 \u001b[39m\"\u001b[39;49m\u001b[39mmodel\u001b[39;49m\u001b[39m\"\u001b[39;49m: model,\n\u001b[0;32m    604\u001b[0m                 \u001b[39m\"\u001b[39;49m\u001b[39mfrequency_penalty\u001b[39;49m\u001b[39m\"\u001b[39;49m: frequency_penalty,\n\u001b[0;32m    605\u001b[0m                 \u001b[39m\"\u001b[39;49m\u001b[39mfunction_call\u001b[39;49m\u001b[39m\"\u001b[39;49m: function_call,\n\u001b[0;32m    606\u001b[0m                 \u001b[39m\"\u001b[39;49m\u001b[39mfunctions\u001b[39;49m\u001b[39m\"\u001b[39;49m: functions,\n\u001b[0;32m    607\u001b[0m                 \u001b[39m\"\u001b[39;49m\u001b[39mlogit_bias\u001b[39;49m\u001b[39m\"\u001b[39;49m: logit_bias,\n\u001b[0;32m    608\u001b[0m                 \u001b[39m\"\u001b[39;49m\u001b[39mmax_tokens\u001b[39;49m\u001b[39m\"\u001b[39;49m: max_tokens,\n\u001b[0;32m    609\u001b[0m                 \u001b[39m\"\u001b[39;49m\u001b[39mn\u001b[39;49m\u001b[39m\"\u001b[39;49m: n,\n\u001b[0;32m    610\u001b[0m                 \u001b[39m\"\u001b[39;49m\u001b[39mpresence_penalty\u001b[39;49m\u001b[39m\"\u001b[39;49m: presence_penalty,\n\u001b[0;32m    611\u001b[0m                 \u001b[39m\"\u001b[39;49m\u001b[39mresponse_format\u001b[39;49m\u001b[39m\"\u001b[39;49m: response_format,\n\u001b[0;32m    612\u001b[0m                 \u001b[39m\"\u001b[39;49m\u001b[39mseed\u001b[39;49m\u001b[39m\"\u001b[39;49m: seed,\n\u001b[0;32m    613\u001b[0m                 \u001b[39m\"\u001b[39;49m\u001b[39mstop\u001b[39;49m\u001b[39m\"\u001b[39;49m: stop,\n\u001b[0;32m    614\u001b[0m                 \u001b[39m\"\u001b[39;49m\u001b[39mstream\u001b[39;49m\u001b[39m\"\u001b[39;49m: stream,\n\u001b[0;32m    615\u001b[0m                 \u001b[39m\"\u001b[39;49m\u001b[39mtemperature\u001b[39;49m\u001b[39m\"\u001b[39;49m: temperature,\n\u001b[0;32m    616\u001b[0m                 \u001b[39m\"\u001b[39;49m\u001b[39mtool_choice\u001b[39;49m\u001b[39m\"\u001b[39;49m: tool_choice,\n\u001b[0;32m    617\u001b[0m                 \u001b[39m\"\u001b[39;49m\u001b[39mtools\u001b[39;49m\u001b[39m\"\u001b[39;49m: tools,\n\u001b[0;32m    618\u001b[0m                 \u001b[39m\"\u001b[39;49m\u001b[39mtop_p\u001b[39;49m\u001b[39m\"\u001b[39;49m: top_p,\n\u001b[0;32m    619\u001b[0m                 \u001b[39m\"\u001b[39;49m\u001b[39muser\u001b[39;49m\u001b[39m\"\u001b[39;49m: user,\n\u001b[0;32m    620\u001b[0m             },\n\u001b[0;32m    621\u001b[0m             completion_create_params\u001b[39m.\u001b[39;49mCompletionCreateParams,\n\u001b[0;32m    622\u001b[0m         ),\n\u001b[0;32m    623\u001b[0m         options\u001b[39m=\u001b[39;49mmake_request_options(\n\u001b[0;32m    624\u001b[0m             extra_headers\u001b[39m=\u001b[39;49mextra_headers, extra_query\u001b[39m=\u001b[39;49mextra_query, extra_body\u001b[39m=\u001b[39;49mextra_body, timeout\u001b[39m=\u001b[39;49mtimeout\n\u001b[0;32m    625\u001b[0m         ),\n\u001b[0;32m    626\u001b[0m         cast_to\u001b[39m=\u001b[39;49mChatCompletion,\n\u001b[0;32m    627\u001b[0m         stream\u001b[39m=\u001b[39;49mstream \u001b[39mor\u001b[39;49;00m \u001b[39mFalse\u001b[39;49;00m,\n\u001b[0;32m    628\u001b[0m         stream_cls\u001b[39m=\u001b[39;49mStream[ChatCompletionChunk],\n\u001b[0;32m    629\u001b[0m     )\n",
      "File \u001b[1;32mc:\\Users\\Huzaifa Enterprise\\AppData\\Local\\Programs\\Python\\Python312\\Lib\\site-packages\\openai\\_base_client.py:1055\u001b[0m, in \u001b[0;36mSyncAPIClient.post\u001b[1;34m(self, path, cast_to, body, options, files, stream, stream_cls)\u001b[0m\n\u001b[0;32m   1041\u001b[0m \u001b[39mdef\u001b[39;00m \u001b[39mpost\u001b[39m(\n\u001b[0;32m   1042\u001b[0m     \u001b[39mself\u001b[39m,\n\u001b[0;32m   1043\u001b[0m     path: \u001b[39mstr\u001b[39m,\n\u001b[1;32m   (...)\u001b[0m\n\u001b[0;32m   1050\u001b[0m     stream_cls: \u001b[39mtype\u001b[39m[_StreamT] \u001b[39m|\u001b[39m \u001b[39mNone\u001b[39;00m \u001b[39m=\u001b[39m \u001b[39mNone\u001b[39;00m,\n\u001b[0;32m   1051\u001b[0m ) \u001b[39m-\u001b[39m\u001b[39m>\u001b[39m ResponseT \u001b[39m|\u001b[39m _StreamT:\n\u001b[0;32m   1052\u001b[0m     opts \u001b[39m=\u001b[39m FinalRequestOptions\u001b[39m.\u001b[39mconstruct(\n\u001b[0;32m   1053\u001b[0m         method\u001b[39m=\u001b[39m\u001b[39m\"\u001b[39m\u001b[39mpost\u001b[39m\u001b[39m\"\u001b[39m, url\u001b[39m=\u001b[39mpath, json_data\u001b[39m=\u001b[39mbody, files\u001b[39m=\u001b[39mto_httpx_files(files), \u001b[39m*\u001b[39m\u001b[39m*\u001b[39moptions\n\u001b[0;32m   1054\u001b[0m     )\n\u001b[1;32m-> 1055\u001b[0m     \u001b[39mreturn\u001b[39;00m cast(ResponseT, \u001b[39mself\u001b[39;49m\u001b[39m.\u001b[39;49mrequest(cast_to, opts, stream\u001b[39m=\u001b[39;49mstream, stream_cls\u001b[39m=\u001b[39;49mstream_cls))\n",
      "File \u001b[1;32mc:\\Users\\Huzaifa Enterprise\\AppData\\Local\\Programs\\Python\\Python312\\Lib\\site-packages\\openai\\_base_client.py:834\u001b[0m, in \u001b[0;36mSyncAPIClient.request\u001b[1;34m(self, cast_to, options, remaining_retries, stream, stream_cls)\u001b[0m\n\u001b[0;32m    825\u001b[0m \u001b[39mdef\u001b[39;00m \u001b[39mrequest\u001b[39m(\n\u001b[0;32m    826\u001b[0m     \u001b[39mself\u001b[39m,\n\u001b[0;32m    827\u001b[0m     cast_to: Type[ResponseT],\n\u001b[1;32m   (...)\u001b[0m\n\u001b[0;32m    832\u001b[0m     stream_cls: \u001b[39mtype\u001b[39m[_StreamT] \u001b[39m|\u001b[39m \u001b[39mNone\u001b[39;00m \u001b[39m=\u001b[39m \u001b[39mNone\u001b[39;00m,\n\u001b[0;32m    833\u001b[0m ) \u001b[39m-\u001b[39m\u001b[39m>\u001b[39m ResponseT \u001b[39m|\u001b[39m _StreamT:\n\u001b[1;32m--> 834\u001b[0m     \u001b[39mreturn\u001b[39;00m \u001b[39mself\u001b[39;49m\u001b[39m.\u001b[39;49m_request(\n\u001b[0;32m    835\u001b[0m         cast_to\u001b[39m=\u001b[39;49mcast_to,\n\u001b[0;32m    836\u001b[0m         options\u001b[39m=\u001b[39;49moptions,\n\u001b[0;32m    837\u001b[0m         stream\u001b[39m=\u001b[39;49mstream,\n\u001b[0;32m    838\u001b[0m         stream_cls\u001b[39m=\u001b[39;49mstream_cls,\n\u001b[0;32m    839\u001b[0m         remaining_retries\u001b[39m=\u001b[39;49mremaining_retries,\n\u001b[0;32m    840\u001b[0m     )\n",
      "File \u001b[1;32mc:\\Users\\Huzaifa Enterprise\\AppData\\Local\\Programs\\Python\\Python312\\Lib\\site-packages\\openai\\_base_client.py:865\u001b[0m, in \u001b[0;36mSyncAPIClient._request\u001b[1;34m(self, cast_to, options, remaining_retries, stream, stream_cls)\u001b[0m\n\u001b[0;32m    863\u001b[0m \u001b[39mexcept\u001b[39;00m httpx\u001b[39m.\u001b[39mHTTPStatusError \u001b[39mas\u001b[39;00m err:  \u001b[39m# thrown on 4xx and 5xx status code\u001b[39;00m\n\u001b[0;32m    864\u001b[0m     \u001b[39mif\u001b[39;00m retries \u001b[39m>\u001b[39m \u001b[39m0\u001b[39m \u001b[39mand\u001b[39;00m \u001b[39mself\u001b[39m\u001b[39m.\u001b[39m_should_retry(err\u001b[39m.\u001b[39mresponse):\n\u001b[1;32m--> 865\u001b[0m         \u001b[39mreturn\u001b[39;00m \u001b[39mself\u001b[39;49m\u001b[39m.\u001b[39;49m_retry_request(\n\u001b[0;32m    866\u001b[0m             options,\n\u001b[0;32m    867\u001b[0m             cast_to,\n\u001b[0;32m    868\u001b[0m             retries,\n\u001b[0;32m    869\u001b[0m             err\u001b[39m.\u001b[39;49mresponse\u001b[39m.\u001b[39;49mheaders,\n\u001b[0;32m    870\u001b[0m             stream\u001b[39m=\u001b[39;49mstream,\n\u001b[0;32m    871\u001b[0m             stream_cls\u001b[39m=\u001b[39;49mstream_cls,\n\u001b[0;32m    872\u001b[0m         )\n\u001b[0;32m    874\u001b[0m     \u001b[39m# If the response is streamed then we need to explicitly read the response\u001b[39;00m\n\u001b[0;32m    875\u001b[0m     \u001b[39m# to completion before attempting to access the response text.\u001b[39;00m\n\u001b[0;32m    876\u001b[0m     err\u001b[39m.\u001b[39mresponse\u001b[39m.\u001b[39mread()\n",
      "File \u001b[1;32mc:\\Users\\Huzaifa Enterprise\\AppData\\Local\\Programs\\Python\\Python312\\Lib\\site-packages\\openai\\_base_client.py:925\u001b[0m, in \u001b[0;36mSyncAPIClient._retry_request\u001b[1;34m(self, options, cast_to, remaining_retries, response_headers, stream, stream_cls)\u001b[0m\n\u001b[0;32m    921\u001b[0m \u001b[39m# In a synchronous context we are blocking the entire thread. Up to the library user to run the client in a\u001b[39;00m\n\u001b[0;32m    922\u001b[0m \u001b[39m# different thread if necessary.\u001b[39;00m\n\u001b[0;32m    923\u001b[0m time\u001b[39m.\u001b[39msleep(timeout)\n\u001b[1;32m--> 925\u001b[0m \u001b[39mreturn\u001b[39;00m \u001b[39mself\u001b[39;49m\u001b[39m.\u001b[39;49m_request(\n\u001b[0;32m    926\u001b[0m     options\u001b[39m=\u001b[39;49moptions,\n\u001b[0;32m    927\u001b[0m     cast_to\u001b[39m=\u001b[39;49mcast_to,\n\u001b[0;32m    928\u001b[0m     remaining_retries\u001b[39m=\u001b[39;49mremaining,\n\u001b[0;32m    929\u001b[0m     stream\u001b[39m=\u001b[39;49mstream,\n\u001b[0;32m    930\u001b[0m     stream_cls\u001b[39m=\u001b[39;49mstream_cls,\n\u001b[0;32m    931\u001b[0m )\n",
      "File \u001b[1;32mc:\\Users\\Huzaifa Enterprise\\AppData\\Local\\Programs\\Python\\Python312\\Lib\\site-packages\\openai\\_base_client.py:865\u001b[0m, in \u001b[0;36mSyncAPIClient._request\u001b[1;34m(self, cast_to, options, remaining_retries, stream, stream_cls)\u001b[0m\n\u001b[0;32m    863\u001b[0m \u001b[39mexcept\u001b[39;00m httpx\u001b[39m.\u001b[39mHTTPStatusError \u001b[39mas\u001b[39;00m err:  \u001b[39m# thrown on 4xx and 5xx status code\u001b[39;00m\n\u001b[0;32m    864\u001b[0m     \u001b[39mif\u001b[39;00m retries \u001b[39m>\u001b[39m \u001b[39m0\u001b[39m \u001b[39mand\u001b[39;00m \u001b[39mself\u001b[39m\u001b[39m.\u001b[39m_should_retry(err\u001b[39m.\u001b[39mresponse):\n\u001b[1;32m--> 865\u001b[0m         \u001b[39mreturn\u001b[39;00m \u001b[39mself\u001b[39;49m\u001b[39m.\u001b[39;49m_retry_request(\n\u001b[0;32m    866\u001b[0m             options,\n\u001b[0;32m    867\u001b[0m             cast_to,\n\u001b[0;32m    868\u001b[0m             retries,\n\u001b[0;32m    869\u001b[0m             err\u001b[39m.\u001b[39;49mresponse\u001b[39m.\u001b[39;49mheaders,\n\u001b[0;32m    870\u001b[0m             stream\u001b[39m=\u001b[39;49mstream,\n\u001b[0;32m    871\u001b[0m             stream_cls\u001b[39m=\u001b[39;49mstream_cls,\n\u001b[0;32m    872\u001b[0m         )\n\u001b[0;32m    874\u001b[0m     \u001b[39m# If the response is streamed then we need to explicitly read the response\u001b[39;00m\n\u001b[0;32m    875\u001b[0m     \u001b[39m# to completion before attempting to access the response text.\u001b[39;00m\n\u001b[0;32m    876\u001b[0m     err\u001b[39m.\u001b[39mresponse\u001b[39m.\u001b[39mread()\n",
      "File \u001b[1;32mc:\\Users\\Huzaifa Enterprise\\AppData\\Local\\Programs\\Python\\Python312\\Lib\\site-packages\\openai\\_base_client.py:925\u001b[0m, in \u001b[0;36mSyncAPIClient._retry_request\u001b[1;34m(self, options, cast_to, remaining_retries, response_headers, stream, stream_cls)\u001b[0m\n\u001b[0;32m    921\u001b[0m \u001b[39m# In a synchronous context we are blocking the entire thread. Up to the library user to run the client in a\u001b[39;00m\n\u001b[0;32m    922\u001b[0m \u001b[39m# different thread if necessary.\u001b[39;00m\n\u001b[0;32m    923\u001b[0m time\u001b[39m.\u001b[39msleep(timeout)\n\u001b[1;32m--> 925\u001b[0m \u001b[39mreturn\u001b[39;00m \u001b[39mself\u001b[39;49m\u001b[39m.\u001b[39;49m_request(\n\u001b[0;32m    926\u001b[0m     options\u001b[39m=\u001b[39;49moptions,\n\u001b[0;32m    927\u001b[0m     cast_to\u001b[39m=\u001b[39;49mcast_to,\n\u001b[0;32m    928\u001b[0m     remaining_retries\u001b[39m=\u001b[39;49mremaining,\n\u001b[0;32m    929\u001b[0m     stream\u001b[39m=\u001b[39;49mstream,\n\u001b[0;32m    930\u001b[0m     stream_cls\u001b[39m=\u001b[39;49mstream_cls,\n\u001b[0;32m    931\u001b[0m )\n",
      "File \u001b[1;32mc:\\Users\\Huzaifa Enterprise\\AppData\\Local\\Programs\\Python\\Python312\\Lib\\site-packages\\openai\\_base_client.py:877\u001b[0m, in \u001b[0;36mSyncAPIClient._request\u001b[1;34m(self, cast_to, options, remaining_retries, stream, stream_cls)\u001b[0m\n\u001b[0;32m    874\u001b[0m     \u001b[39m# If the response is streamed then we need to explicitly read the response\u001b[39;00m\n\u001b[0;32m    875\u001b[0m     \u001b[39m# to completion before attempting to access the response text.\u001b[39;00m\n\u001b[0;32m    876\u001b[0m     err\u001b[39m.\u001b[39mresponse\u001b[39m.\u001b[39mread()\n\u001b[1;32m--> 877\u001b[0m     \u001b[39mraise\u001b[39;00m \u001b[39mself\u001b[39m\u001b[39m.\u001b[39m_make_status_error_from_response(err\u001b[39m.\u001b[39mresponse) \u001b[39mfrom\u001b[39;00m \u001b[39mNone\u001b[39;00m\n\u001b[0;32m    878\u001b[0m \u001b[39mexcept\u001b[39;00m httpx\u001b[39m.\u001b[39mTimeoutException \u001b[39mas\u001b[39;00m err:\n\u001b[0;32m    879\u001b[0m     \u001b[39mif\u001b[39;00m retries \u001b[39m>\u001b[39m \u001b[39m0\u001b[39m:\n",
      "\u001b[1;31mRateLimitError\u001b[0m: Error code: 429 - {'error': {'message': 'You exceeded your current quota, please check your plan and billing details.', 'type': 'insufficient_quota', 'param': None, 'code': 'insufficient_quota'}}"
     ]
    }
   ],
   "source": [
    "from openai.types.chat.chat_completion import ChatCompletion\n",
    "\n",
    "def chat_completion(prompt : str )-> str:\n",
    " response : ChatCompletion = client.chat.completions.create(\n",
    "        messages=[\n",
    "            {\n",
    "                \"role\": \"user\",\n",
    "                \"content\": prompt,\n",
    "            }\n",
    "        ],\n",
    "        model=\"gpt-3.5-turbo-1106\",\n",
    "    )\n",
    "# print(response)\n",
    "#  print(response.choices[0].message.content)\n",
    " return response.choices[0].message.content\n",
    "\n",
    "chat_completion(\"what is 1+1?\")"
   ]
  }
 ],
 "metadata": {
  "kernelspec": {
   "display_name": "Python 3",
   "language": "python",
   "name": "python3"
  },
  "language_info": {
   "codemirror_mode": {
    "name": "ipython",
    "version": 3
   },
   "file_extension": ".py",
   "mimetype": "text/x-python",
   "name": "python",
   "nbconvert_exporter": "python",
   "pygments_lexer": "ipython3",
   "version": "3.12.0"
  }
 },
 "nbformat": 4,
 "nbformat_minor": 2
}
